{
 "cells": [
  {
   "cell_type": "code",
   "execution_count": null,
   "metadata": {},
   "outputs": [],
   "source": [
    "# jupyter notebook\n",
    "!jupyter nbextension enable --py --sys-prefix ipyleaflet"
   ]
  },
  {
   "cell_type": "code",
   "execution_count": null,
   "metadata": {},
   "outputs": [],
   "source": [
    "##jupyter lab\n",
    "!jupyter labextension install jupyter-leaflet\n",
    "!jupyter labextension install @jupyter-widgets/jupyterlab-manager"
   ]
  },
  {
   "cell_type": "code",
   "execution_count": null,
   "metadata": {},
   "outputs": [],
   "source": [
    "import os\n",
    "import sys\n",
    "import time\n",
    "import pickle\n",
    "import string\n",
    "from datetime import datetime\n",
    "from datetime import timedelta\n",
    "from itertools import chain, cycle\n",
    "import collections\n",
    "from pprint import pprint\n",
    "from io import StringIO\n",
    "import pathlib\n",
    "\n",
    "import numpy as np\n",
    "import pandas as pd\n",
    "from pandas.tools.plotting import parallel_coordinates\n",
    "import matplotlib.pyplot as plt\n",
    "\n",
    "#import urllib\n",
    "#import webbrowser\n",
    "#import codecs\n",
    "from bs4 import BeautifulSoup\n",
    "from xml.dom import minidom\n",
    "from xml.etree import ElementTree as ET\n",
    "#from lxml import etree as ET #Supports xpath syntax\n",
    "import xmltodict \n",
    "\n",
    "import nltk\n",
    "import re\n",
    "import Levenshtein\n",
    "import networkx as nx\n",
    "import json\n",
    "\n",
    "#from nominatim import Nominatim\n",
    "#from mpl_toolkits.basemap import Basemap   #http://matplotlib.org/basemap/api/basemap_api.html\n",
    "from matplotlib import cm\n",
    "import geopy.geocoders as gg\n",
    "from geopy.geocoders import Nominatim\n",
    "import geopandas as gpd\n",
    "import ipyleaflet\n",
    "#from ipyleaflet import Map, basemaps, basemap_to_tiles, DrawControl, WMSLayer, Marker, MarkerCluster\n",
    "\n",
    "##https://python-visualization.github.io/folium/docs-v0.6.0/\n",
    "#https://towardsdatascience.com/data-101s-spatial-visualizations-and-analysis-in-python-with-folium-39730da2adf\n",
    "import folium\n",
    "import folium.plugins\n",
    "#from folium.plugins import MarkerCluster\n",
    "#from folium.plugins import FastMarkerCluster\n",
    "\n",
    "\n",
    "#import plotly as py\n",
    "#import plotly.graph_objs as go\n",
    "#import plotly.figure_factory as ff\n",
    "\n",
    "from IPython.display import Image, HTML, IFrame, FileLink, FileLinks #needed to render in notebook\n",
    "from IPython.core.display import display\n",
    "\n",
    "#import pydotplus #Install http://www.graphviz.org/ & Instal https://pypi.python.org/pypi/pydotplus\n",
    "\n",
    "#https://stackoverflow.com/questions/2148119/how-to-convert-an-xml-string-to-a-dictionary-in-python\n",
    "#https://github.com/martinblech/xmltodict\n",
    "#https://www.datacamp.com/community/tutorials/python-xml-elementtree\n",
    "#https://stackabuse.com/reading-and-writing-xml-files-in-python/\n",
    "#https://codereview.stackexchange.com/questions/117810/parsing-of-xml-in-python-using-minidom-and-inserting-data-into-a-database\n",
    "#https://stackoverflow.com/questions/749796/pretty-printing-xml-in-python\n",
    "#https://hackersandslackers.com/dealing-with-xml-in-python/"
   ]
  },
  {
   "cell_type": "code",
   "execution_count": null,
   "metadata": {},
   "outputs": [],
   "source": [
    "pwd"
   ]
  },
  {
   "cell_type": "markdown",
   "metadata": {},
   "source": [
    "#### Reading the XML Metadata files and processing Information on places"
   ]
  },
  {
   "cell_type": "code",
   "execution_count": null,
   "metadata": {},
   "outputs": [],
   "source": [
    "placesfile =  './TEI-XML-2018/helper_tables/listPlace.xml'\n",
    "#print((open(placesfile, encoding=\"utf-8\").read()))\n",
    "placestree = ET.parse(placesfile)\n",
    "placesroot = placestree.getroot()\n",
    "set([elem.tag for elem in placesroot.iter()])"
   ]
  },
  {
   "cell_type": "code",
   "execution_count": null,
   "metadata": {},
   "outputs": [],
   "source": [
    "placesdict = xmltodict.parse((open(placesfile, encoding=\"utf-8\").read()))\n",
    "print(placesdict.keys())\n",
    "print(placesdict['listPlace'].keys())"
   ]
  },
  {
   "cell_type": "code",
   "execution_count": null,
   "metadata": {},
   "outputs": [],
   "source": [
    "placeslist = placesdict['listPlace']['place']\n",
    "state_bundesland = [p['placeName'] for p in placeslist]\n",
    "print(state_bundesland)"
   ]
  },
  {
   "cell_type": "code",
   "execution_count": null,
   "metadata": {},
   "outputs": [],
   "source": [
    "placeslist[0]['listPlace']['place']['listPlace']['place']['listPlace']['place']['listPlace']['place'][0]['record']\n",
    "#placeslist[1]['listPlace']['place'][0]['listPlace']['place'][0]['listPlace']['place'][0]['listPlace']['place'][0]['record']\n",
    "#placeslist[2]['listPlace']['place']['listPlace']['place'][0]['listPlace']['place'][0]['listPlace']['place']['record']\n",
    "#placeslist[3]['listPlace']['place'][0]['listPlace']['place'][0]['listPlace']['place']['listPlace']['place']['record']"
   ]
  },
  {
   "cell_type": "code",
   "execution_count": null,
   "metadata": {},
   "outputs": [],
   "source": [
    "identified_places = collections.defaultdict(list)\n",
    "def show_record(something):\n",
    "    if isinstance(something, list):\n",
    "        for elem in something:\n",
    "            show_record(elem)\n",
    "    elif isinstance(something, collections.OrderedDict) and ('record' in something.keys()):\n",
    "        try:\n",
    "            #print(something['record']['Bundesland'], ' --> ', something['record']['Ort'])\n",
    "            identified_places[something['record']['Bundesland']].append(something['record']['Ort'])\n",
    "        except:\n",
    "            #print(something['record'][0]['Bundesland'], ' --> ', something['record'][0]['Ort'])\n",
    "            identified_places[something['record'][0]['Bundesland']].append(something['record'][0]['Ort'])\n",
    "    elif isinstance(something, collections.OrderedDict):\n",
    "        new = something['listPlace']['place']\n",
    "        show_record(new)\n",
    "    else:\n",
    "        print(type(something))\n",
    "        print(something)"
   ]
  },
  {
   "cell_type": "code",
   "execution_count": null,
   "metadata": {},
   "outputs": [],
   "source": [
    "show_record(placeslist)"
   ]
  },
  {
   "cell_type": "code",
   "execution_count": null,
   "metadata": {},
   "outputs": [],
   "source": [
    "identified_places.keys()"
   ]
  },
  {
   "cell_type": "code",
   "execution_count": null,
   "metadata": {},
   "outputs": [],
   "source": [
    "df_places = pd.DataFrame(columns=['Bundesland', 'Ort'])\n",
    "for key in identified_places.keys():\n",
    "    df_temp = pd.DataFrame(identified_places[key], columns=['Ort'])\n",
    "    df_temp['Bundesland'] = key\n",
    "    df_places = pd.concat([df_places, df_temp], axis=0, sort=True)\n",
    "df_places.head(30)"
   ]
  },
  {
   "cell_type": "code",
   "execution_count": null,
   "metadata": {},
   "outputs": [],
   "source": [
    "df_places.reset_index(inplace=True, drop=True)"
   ]
  },
  {
   "cell_type": "code",
   "execution_count": null,
   "metadata": {},
   "outputs": [],
   "source": [
    "df_places.replace('W.','Wien', inplace=True)\n",
    "df_places.replace('STir.','Südtirol', inplace=True)\n",
    "df_places.replace('OTir.','Osttiroler', inplace=True)\n",
    "df_places.replace('NTir.','Nord tirol', inplace=True)\n",
    "df_places.replace('Kä.','Kärnten', inplace=True)\n",
    "df_places.replace('St.','Steiermark', inplace=True)\n",
    "df_places.replace('Sa.','Salzburg', inplace=True)\n",
    "df_places.replace('OÖ','Oberösterreich', inplace=True)\n",
    "df_places.replace('NÖ','Niederösterreich', inplace=True)\n",
    "df_places.replace('Bgl.','Burgenland', inplace=True)"
   ]
  },
  {
   "cell_type": "code",
   "execution_count": null,
   "metadata": {},
   "outputs": [],
   "source": [
    "df_places.head(10)"
   ]
  },
  {
   "cell_type": "code",
   "execution_count": null,
   "metadata": {},
   "outputs": [],
   "source": [
    "df_places.loc[0].values"
   ]
  },
  {
   "cell_type": "markdown",
   "metadata": {},
   "source": [
    "#### Using a geolocator to get the Coordinates"
   ]
  },
  {
   "cell_type": "code",
   "execution_count": null,
   "metadata": {},
   "outputs": [],
   "source": [
    "geolocator = gg.Nominatim(user_agent=\"test_application\")"
   ]
  },
  {
   "cell_type": "code",
   "execution_count": null,
   "metadata": {},
   "outputs": [],
   "source": [
    "df_places.loc[0, 'Ort'] + ', ' +  df_places.loc[0, 'Bundesland']"
   ]
  },
  {
   "cell_type": "code",
   "execution_count": null,
   "metadata": {},
   "outputs": [],
   "source": [
    "logradouro = df_places.loc[0, 'Ort'] + ', ' +  df_places.loc[0, 'Bundesland']\n",
    "location = geolocator.geocode(logradouro)\n",
    "print(location.address)\n",
    "address = location.address\n",
    "print((location.latitude, location.longitude))\n",
    "latitude, longitude = location.latitude, location.longitude\n",
    "print(location.raw)"
   ]
  },
  {
   "cell_type": "markdown",
   "metadata": {},
   "source": [
    "The next cells were used just for getting geographic information. The saved Pickle shall be used for the subsequent processing. "
   ]
  },
  {
   "cell_type": "code",
   "execution_count": null,
   "metadata": {},
   "outputs": [],
   "source": [
    "def get_coordinates(place):\n",
    "    try:\n",
    "        location = geolocator.geocode(place)\n",
    "    except:\n",
    "        return None\n",
    "    print(location)\n",
    "    time.sleep(5)\n",
    "    if location:\n",
    "        return (location.longitude, location.latitude), location.address\n",
    "    else:\n",
    "        return None"
   ]
  },
  {
   "cell_type": "code",
   "execution_count": null,
   "metadata": {},
   "outputs": [],
   "source": [
    "geoinfo = []\n",
    "for idx in df_places.index:\n",
    "    geoinfo.append(get_coordinates(df_places.loc[idx, 'Ort'] + ', ' +  df_places.loc[idx, 'Bundesland']))"
   ]
  },
  {
   "cell_type": "code",
   "execution_count": null,
   "metadata": {},
   "outputs": [],
   "source": [
    "df_places['Coordinates'] = [x[0] if x else None for x in geoinfo]\n",
    "df_places['Adresses'] = [x[1] if x else None for x in geoinfo]"
   ]
  },
  {
   "cell_type": "code",
   "execution_count": null,
   "metadata": {},
   "outputs": [],
   "source": [
    "df_places.head(30)"
   ]
  },
  {
   "cell_type": "code",
   "execution_count": null,
   "metadata": {},
   "outputs": [],
   "source": [
    "#df_places.to_pickle(\"./df_places.pkl\")\n",
    "df_places.to_excel('./df_places.xls')"
   ]
  },
  {
   "cell_type": "code",
   "execution_count": null,
   "metadata": {},
   "outputs": [],
   "source": [
    "df_places = pd.read_pickle(\"./df_places.pkl\")\n",
    "df_places.head(10)"
   ]
  },
  {
   "cell_type": "code",
   "execution_count": null,
   "metadata": {},
   "outputs": [],
   "source": [
    "df_places.info()"
   ]
  },
  {
   "cell_type": "code",
   "execution_count": null,
   "metadata": {},
   "outputs": [],
   "source": [
    "df_places.Bundesland.unique()"
   ]
  },
  {
   "cell_type": "code",
   "execution_count": null,
   "metadata": {},
   "outputs": [],
   "source": [
    "df_places[df_places.Coordinates.isnull()]"
   ]
  },
  {
   "cell_type": "markdown",
   "metadata": {},
   "source": [
    "Testing with a missing field..."
   ]
  },
  {
   "cell_type": "code",
   "execution_count": null,
   "metadata": {},
   "outputs": [],
   "source": [
    "location = geolocator.geocode('Niederösterreich')\n",
    "print(location.address)\n",
    "address = location.address\n",
    "print((location.latitude, location.longitude))\n",
    "latitude, longitude = location.latitude, location.longitude\n",
    "print(location.raw)"
   ]
  },
  {
   "cell_type": "code",
   "execution_count": null,
   "metadata": {},
   "outputs": [],
   "source": [
    "df_places[df_places.Coordinates.isnull()].index"
   ]
  },
  {
   "cell_type": "code",
   "execution_count": null,
   "metadata": {},
   "outputs": [],
   "source": [
    "geoinfo_missing = []\n",
    "for ort in df_places[df_places.Coordinates.isnull()].Ort:\n",
    "    geoinfo_missing.append(get_coordinates(ort))"
   ]
  },
  {
   "cell_type": "code",
   "execution_count": null,
   "metadata": {},
   "outputs": [],
   "source": [
    "print(len(geoinfo_missing))\n",
    "print(len(df_places[df_places.Coordinates.isnull()]))"
   ]
  },
  {
   "cell_type": "code",
   "execution_count": null,
   "metadata": {},
   "outputs": [],
   "source": [
    "idx = df_places[df_places.Coordinates.isnull()].index\n",
    "df_places.loc[idx, 'Coordinates'] = [x[0] if x else None for x in geoinfo_missing]"
   ]
  },
  {
   "cell_type": "code",
   "execution_count": null,
   "metadata": {},
   "outputs": [],
   "source": [
    "df_places[df_places.Adresses.isnull()]"
   ]
  },
  {
   "cell_type": "code",
   "execution_count": null,
   "metadata": {},
   "outputs": [],
   "source": [
    "geoinfo_missing = []\n",
    "for ort in df_places[df_places.Adresses.isnull()].Ort:\n",
    "    geoinfo_missing.append(get_coordinates(ort))"
   ]
  },
  {
   "cell_type": "code",
   "execution_count": null,
   "metadata": {},
   "outputs": [],
   "source": [
    "print(len(geoinfo_missing))\n",
    "print(len(df_places[df_places.Adresses.isnull()]))"
   ]
  },
  {
   "cell_type": "code",
   "execution_count": null,
   "metadata": {},
   "outputs": [],
   "source": [
    "idx = df_places[df_places.Adresses.isnull()].index\n",
    "df_places.loc[idx, 'Adresses'] = [x[1] if x else None for x in geoinfo_missing]"
   ]
  },
  {
   "cell_type": "code",
   "execution_count": null,
   "metadata": {},
   "outputs": [],
   "source": [
    "df_places.loc[df_places[df_places.Coordinates.isnull()].index]"
   ]
  },
  {
   "cell_type": "code",
   "execution_count": null,
   "metadata": {},
   "outputs": [],
   "source": [
    "df_places.to_pickle(\"./df_places.pkl\")"
   ]
  },
  {
   "cell_type": "code",
   "execution_count": null,
   "metadata": {},
   "outputs": [],
   "source": [
    "#https://docs.python.org/2.4/lib/standard-encodings.html\n",
    "df_places.to_csv(\"./df_places.csv\", encoding='utf_16')"
   ]
  },
  {
   "cell_type": "markdown",
   "metadata": {},
   "source": [
    "Showing places in a map"
   ]
  },
  {
   "cell_type": "code",
   "execution_count": null,
   "metadata": {},
   "outputs": [],
   "source": [
    "df_places = pd.read_pickle(\"./df_places.pkl\")\n",
    "df_places.head(10)"
   ]
  },
  {
   "cell_type": "code",
   "execution_count": null,
   "metadata": {},
   "outputs": [],
   "source": [
    "df_places.Coordinates[1][-1::-1]"
   ]
  },
  {
   "cell_type": "code",
   "execution_count": null,
   "metadata": {},
   "outputs": [],
   "source": [
    "#https://ipyleaflet.readthedocs.io/en/latest/\n",
    "#https://ipywidgets.readthedocs.io/en/latest/examples/Widget%20Styling.html\n",
    "#https://github.com/jupyter-widgets/ipyleaflet/issues/64\n",
    "#http://andrewgaidus.com/leaflet_webmaps_python/\n",
    "\n",
    "#layer = WMSLayer(url=\"https://demo.boundlessgeo.com/geoserver/ows?\", layers=\"nasa:bluemarble\")\n",
    "layer = ipyleaflet.basemap_to_tiles(ipyleaflet.basemaps.NASAGIBS.ModisTerraTrueColorCR, \"2018-09-30\")\n",
    "center = (47,14)\n",
    "\n",
    "mapplaces = ipyleaflet.Map(#layers=(layer,),\n",
    "                            center=center,\n",
    "                            zoom=6)\n",
    "\n",
    "mapplaces.layout.width = '100%'\n",
    "mapplaces.layout.height = '800px'\n",
    "\n",
    "markers = []\n",
    "for idx in df_places.index:\n",
    "    if df_places.loc[idx,'Coordinates']:\n",
    "        title = df_places.loc[idx,'Ort']\n",
    "        markers.append(ipyleaflet.Marker(location=df_places.loc[idx,'Coordinates'][-1::-1], draggable=False, title=title))                    \n",
    "marker_cluster = ipyleaflet.MarkerCluster(markers=tuple(markers))                       \n",
    "mapplaces.add_layer(marker_cluster);\n",
    "\n",
    "\n",
    "mapplaces"
   ]
  },
  {
   "cell_type": "code",
   "execution_count": null,
   "metadata": {},
   "outputs": [],
   "source": [
    "#using Folio\n",
    "\n",
    "mapplaces = folium.Map(location=(47,14), zoom_start=4)\n",
    "\n",
    "mc = folium.plugins.MarkerCluster()\n",
    "\n",
    "for idx in df_places.index:\n",
    "    if df_places.loc[idx,'Coordinates']:\n",
    "        title = df_places.loc[idx,'Ort']\n",
    "        mc.add_child(folium.Marker(location=df_places.loc[idx,'Coordinates'][-1::-1], popup=title))\n",
    "                       \n",
    "mapplaces.add_child(mc)\n",
    "mapplaces"
   ]
  },
  {
   "cell_type": "code",
   "execution_count": null,
   "metadata": {},
   "outputs": [],
   "source": [
    "mapplaces.save('./places.html')"
   ]
  },
  {
   "cell_type": "markdown",
   "metadata": {},
   "source": [
    "#### Reading the XML Data files:"
   ]
  },
  {
   "cell_type": "code",
   "execution_count": null,
   "metadata": {},
   "outputs": [],
   "source": [
    "xmlfile =  './TEI-XML-2018/bel_d-tei-02/d157_qdb-TEI-02.xml'\n",
    "#xmlfile = open(xmlfile, mode='r', encoding='utf-8').read()\n",
    "namespaces = {'TEI': 'http://www.tei-c.org/ns/1.0'} # add more as needed"
   ]
  },
  {
   "cell_type": "markdown",
   "metadata": {},
   "source": [
    "Parsing the XML tree"
   ]
  },
  {
   "cell_type": "code",
   "execution_count": null,
   "metadata": {},
   "outputs": [],
   "source": [
    "xmldoc = minidom.parse(xmlfile)  #xmldoc = ET.XML(xmlfile)\n",
    "bs = BeautifulSoup(open(xmlfile, encoding=\"utf8\"), 'xml')\n",
    "tree = ET.parse(xmlfile)"
   ]
  },
  {
   "cell_type": "code",
   "execution_count": null,
   "metadata": {},
   "outputs": [],
   "source": [
    "root = tree.getroot()\n",
    "print(root)"
   ]
  },
  {
   "cell_type": "code",
   "execution_count": null,
   "metadata": {},
   "outputs": [],
   "source": [
    "my_namespaces = dict([node for _, node in ET.iterparse(StringIO(open(xmlfile, mode='r', encoding='utf-8').read()), events=['start-ns'])])\n",
    "print(my_namespaces)"
   ]
  },
  {
   "cell_type": "code",
   "execution_count": null,
   "metadata": {},
   "outputs": [],
   "source": [
    "for child in root:\n",
    "    print(child.tag, child.attrib)"
   ]
  },
  {
   "cell_type": "code",
   "execution_count": null,
   "metadata": {},
   "outputs": [],
   "source": [
    "set([elem.tag for elem in root.iter()])"
   ]
  },
  {
   "cell_type": "code",
   "execution_count": null,
   "metadata": {},
   "outputs": [],
   "source": [
    "places = []\n",
    "for elem in root.iter('{http://www.tei-c.org/ns/1.0}place'):\n",
    "    # print(elem.attrib)\n",
    "    # print(elem.attrib['type'])\n",
    "    places.append(elem.attrib['type'])\n",
    "freq_places = collections.Counter(places)\n",
    "freq_places.most_common(10)"
   ]
  },
  {
   "cell_type": "code",
   "execution_count": null,
   "metadata": {},
   "outputs": [],
   "source": [
    "for elem in root.iter('{http://www.tei-c.org/ns/1.0}entry'):\n",
    "    print(elem.attrib)\n",
    "    #print(elem.attrib['type'])\n",
    "    #print(elem.get('entry'))\n",
    "    #print(elem.find('orth type').text)"
   ]
  },
  {
   "cell_type": "code",
   "execution_count": null,
   "metadata": {},
   "outputs": [],
   "source": [
    "def show(elem, indent = 0):\n",
    "    print(' ' * indent + elem.tag)\n",
    "    for child in elem.findall('*'):\n",
    "         show(elem, indent + 1)\n",
    "            \n",
    "show(root)"
   ]
  },
  {
   "cell_type": "code",
   "execution_count": null,
   "metadata": {},
   "outputs": [],
   "source": [
    "for elem1 in root.iter('{http://www.tei-c.org/ns/1.0}entry'):\n",
    "    print(elem.findall('orth'))\n",
    "    #print(elem.attrib['type'])\n",
    "    #print(elem.get('entry'))\n",
    "    #print(elem.find('orth type').text)\n",
    "\n",
    "#for beer in e.findall('beer'):\n",
    "#    name = beer.get('name') # equivalent to .attrib() in this case\n",
    "#    flavor = beer.find('flavor').text\n",
    "#    print(name, \" is \", flavor)"
   ]
  },
  {
   "cell_type": "markdown",
   "metadata": {},
   "source": [
    "Dictionary Approach"
   ]
  },
  {
   "cell_type": "code",
   "execution_count": null,
   "metadata": {},
   "outputs": [],
   "source": [
    "xml2dictfile = xmltodict.parse((open(xmlfile, mode='r', encoding='utf-8').read()))"
   ]
  },
  {
   "cell_type": "code",
   "execution_count": null,
   "metadata": {},
   "outputs": [],
   "source": [
    "print(xml2dictfile['TEI'].keys())"
   ]
  },
  {
   "cell_type": "code",
   "execution_count": null,
   "metadata": {},
   "outputs": [],
   "source": [
    "xml2dictfile['TEI']['@xmlns']\n",
    "#xml2dictfile['TEI']['teiHeader']"
   ]
  },
  {
   "cell_type": "code",
   "execution_count": null,
   "metadata": {},
   "outputs": [],
   "source": [
    "print(len(xml2dictfile['TEI']['text']['body']['entry']))\n",
    "xml2dictfile['TEI']['text']['body']['entry'][0].keys()"
   ]
  },
  {
   "cell_type": "code",
   "execution_count": null,
   "metadata": {},
   "outputs": [],
   "source": [
    "xml2dictfile['TEI']['text']['body']['entry'][144]"
   ]
  },
  {
   "cell_type": "code",
   "execution_count": null,
   "metadata": {},
   "outputs": [],
   "source": [
    "datapath = './TEI-XML-2018/'\n",
    "onlydirs = [f for f in os.listdir(datapath) if os.path.isdir(os.path.join(datapath,f)) and f.startswith('bel')]\n",
    "onlydirs"
   ]
  },
  {
   "cell_type": "code",
   "execution_count": null,
   "metadata": {},
   "outputs": [],
   "source": [
    "onlyfiles = []\n",
    "for folder in onlydirs:\n",
    "    for filex in [f for f in os.listdir(os.path.join(datapath, folder)) if os.path.isfile(os.path.join(datapath, folder, f)) \\\n",
    "                                       and not f.startswith('.')]:\n",
    "        onlyfiles.append('{}{}/{}'.format(datapath, folder, filex))\n",
    "\n",
    "\n",
    "print('Files in the folder:')\n",
    "for i, w in enumerate(onlyfiles):\n",
    "    print(i+1, '--' ,w)"
   ]
  },
  {
   "cell_type": "code",
   "execution_count": null,
   "metadata": {},
   "outputs": [],
   "source": [
    "df_lemmas = pd.DataFrame(columns=['Ort', 'Lemma'])\n",
    "orts = []\n",
    "lemmas = []\n",
    "\n",
    "for idx1, filex in enumerate(onlyfiles):\n",
    "    xmldictfile = xmltodict.parse((open(filex, encoding=\"utf-8\").read()))\n",
    "    for idx2, entry in enumerate(xml2dictfile['TEI']['text']['body']['entry']):\n",
    "        idx = ((idx1+1)*(idx2+1)-1)\n",
    "        \n",
    "        ort = None\n",
    "        if 'usg' in entry.keys():\n",
    "            if isinstance(entry['usg'], list):\n",
    "                for local in entry['usg']:\n",
    "                    try:\n",
    "                        ort = local['placeName']['#text']\n",
    "                    except:\n",
    "                        ort = local['placeName']\n",
    "            else:\n",
    "                try:\n",
    "                    ort = entry['usg']['placeName']['#text']\n",
    "                except:\n",
    "                    ort = entry['usg']['placeName']\n",
    "        orts.append(ort)\n",
    "\n",
    "        lemma = None\n",
    "        if 'form' in entry.keys():\n",
    "            if isinstance(entry['form'], list):\n",
    "                for elem in entry['form']:\n",
    "                    if elem['@type'] == 'hauptlemma' and isinstance(elem['orth'], str):          \n",
    "                        lemma = elem['orth']\n",
    "                    elif elem['@type'] == 'hauptlemma' and isinstance(elem['orth'], list):\n",
    "                        for subelem in elem['orth']:\n",
    "                            if subelem['@type'] == 'normalized':\n",
    "                                lemma = subelem['#text']\n",
    "            else:\n",
    "                if isinstance(entry['form']['orth'], list):\n",
    "                    for elem in entry['form']['orth']:\n",
    "                        if elem['@type'] == 'normalized':\n",
    "                            lemma = elem['#text']\n",
    "                else:\n",
    "                    lemma = entry['form']['orth']\n",
    "        lemmas.append(lemma)\n",
    "        \n",
    "        if idx % 10000 == 0:\n",
    "            print(idx)\n",
    "\n",
    "df_lemmas['Ort'] = orts\n",
    "df_lemmas['Lemma'] = lemmas"
   ]
  },
  {
   "cell_type": "code",
   "execution_count": null,
   "metadata": {},
   "outputs": [],
   "source": [
    "df_lemmas.info()"
   ]
  },
  {
   "cell_type": "code",
   "execution_count": null,
   "metadata": {},
   "outputs": [],
   "source": [
    "df_lemmas.head(40)"
   ]
  },
  {
   "cell_type": "raw",
   "metadata": {},
   "source": [
    "with open('./df_lemmas.pkl', 'wb') as f:\n",
    "    pickle.dump(df_lemmas, f)"
   ]
  },
  {
   "cell_type": "code",
   "execution_count": null,
   "metadata": {},
   "outputs": [],
   "source": [
    "df_lemmas = pd.read_pickle(\"./df_lemmas.pkl\")\n",
    "df_lemmas.head(100)"
   ]
  },
  {
   "cell_type": "code",
   "execution_count": null,
   "metadata": {},
   "outputs": [],
   "source": [
    "grouped = df_lemmas.groupby('Ort')['Lemma'].apply(list)"
   ]
  },
  {
   "cell_type": "code",
   "execution_count": null,
   "metadata": {},
   "outputs": [],
   "source": [
    "grouped.head()"
   ]
  },
  {
   "cell_type": "code",
   "execution_count": null,
   "metadata": {},
   "outputs": [],
   "source": [
    "len(grouped)"
   ]
  },
  {
   "cell_type": "markdown",
   "metadata": {},
   "source": [
    "#### Georeferencing Lemmas"
   ]
  },
  {
   "cell_type": "raw",
   "metadata": {},
   "source": [
    "geolocator = gg.Nominatim(user_agent=\"test_application\")"
   ]
  },
  {
   "cell_type": "raw",
   "metadata": {},
   "source": [
    "location = geolocator.geocode('salurn Österreich')\n",
    "print(location.address)\n",
    "address = location.address\n",
    "print((location.latitude, location.longitude))\n",
    "latitude, longitude = location.latitude, location.longitude\n",
    "print(location.raw)"
   ]
  },
  {
   "cell_type": "raw",
   "metadata": {},
   "source": [
    "def get_coordinates(place):\n",
    "    location = None\n",
    "    place = place.replace(')', '')\n",
    "    place = place.replace('(', '')\n",
    "    place = place.replace(']', '')\n",
    "    place = place.replace('[', '')\n",
    "    place = place.replace('.', '')\n",
    "    place = place.replace('/', ' ')\n",
    "    print(place)\n",
    "    try:\n",
    "        location = geolocator.geocode(place)\n",
    "        if not location:\n",
    "            try:\n",
    "                location = geolocator.geocode(place.split(',')[0])\n",
    "            except:\n",
    "                print('failed 1')\n",
    "        time.sleep(2)\n",
    "        if not location:\n",
    "            try:\n",
    "                location = geolocator.geocode(place.split(',')[1])\n",
    "            except:\n",
    "                print('failed 2')\n",
    "        time.sleep(2)\n",
    "        if not location:\n",
    "            try:\n",
    "                location = geolocator.geocode(place.split(' ')[0])\n",
    "            except:\n",
    "                print('failed 3')\n",
    "        time.sleep(2)\n",
    "        if not location:\n",
    "            try:\n",
    "                location = geolocator.geocode(place.split(' ')[1])\n",
    "            except:\n",
    "                print('failed 4')\n",
    "        time.sleep(2)\n",
    "        if not location:\n",
    "            try:\n",
    "                location = geolocator.geocode(place.split(' ')[2])\n",
    "            except:\n",
    "                print('failed 5')\n",
    "        if location:\n",
    "            print('location -', location)\n",
    "        else:\n",
    "            print('place -', place)\n",
    "    except:\n",
    "        return None\n",
    "    time.sleep(2)\n",
    "    print('------')\n",
    "    if location:\n",
    "        return (location.longitude, location.latitude), location.address\n",
    "    else:\n",
    "        return None"
   ]
  },
  {
   "cell_type": "code",
   "execution_count": null,
   "metadata": {},
   "outputs": [],
   "source": [
    "lemma_places = []\n",
    "for p in df_freqdist.Place:\n",
    "    lemma_places.append(get_coordinates(p))\n",
    "    \n",
    "lemma_places"
   ]
  },
  {
   "cell_type": "code",
   "execution_count": null,
   "metadata": {},
   "outputs": [],
   "source": [
    "idx = df_freqdist.Place.index\n",
    "idx"
   ]
  },
  {
   "cell_type": "raw",
   "metadata": {},
   "source": [
    "df_freqdist.loc[idx, 'Coordinates'] = [x[0] if x else None for x in lemma_places]"
   ]
  },
  {
   "cell_type": "raw",
   "metadata": {},
   "source": [
    "df_freqdist.loc[idx, 'Adresses'] = [x[1] if x else None for x in lemma_places]"
   ]
  },
  {
   "cell_type": "raw",
   "metadata": {},
   "source": [
    "with open('./df_freqdist.pkl', 'wb') as f:\n",
    "    pickle.dump(df_freqdist, f)"
   ]
  },
  {
   "cell_type": "code",
   "execution_count": null,
   "metadata": {},
   "outputs": [],
   "source": [
    "with open('./df_freqdist.pkl', 'rb') as f:\n",
    "    df_freqdist = pickle.load(f)\n",
    "\n",
    "df_freqdist.head()"
   ]
  },
  {
   "cell_type": "code",
   "execution_count": null,
   "metadata": {},
   "outputs": [],
   "source": [
    "with open('./df_joined.pkl', 'rb') as f:\n",
    "    df_joined = pickle.load(f)\n",
    "\n",
    "df_joined.head(10)"
   ]
  },
  {
   "cell_type": "code",
   "execution_count": null,
   "metadata": {},
   "outputs": [],
   "source": [
    "df_joined.reset_index(inplace=True)"
   ]
  },
  {
   "cell_type": "code",
   "execution_count": null,
   "metadata": {},
   "outputs": [],
   "source": [
    "df_joined.head(10)"
   ]
  },
  {
   "cell_type": "code",
   "execution_count": null,
   "metadata": {},
   "outputs": [],
   "source": [
    "df_joined.to_csv('./df_joined.csv')"
   ]
  },
  {
   "cell_type": "code",
   "execution_count": null,
   "metadata": {},
   "outputs": [],
   "source": [
    "def list2string(lista):\n",
    "    texto = ''\n",
    "    for elem in lista:\n",
    "        texto = texto + '\\n' + elem[0] + ' --- ' + str(elem[1]) + '\\n'\n",
    "    return texto"
   ]
  },
  {
   "cell_type": "code",
   "execution_count": null,
   "metadata": {},
   "outputs": [],
   "source": [
    "df_joined.Lemma"
   ]
  },
  {
   "cell_type": "code",
   "execution_count": null,
   "metadata": {
    "scrolled": true
   },
   "outputs": [],
   "source": [
    "center = (47,14)\n",
    "mapplaces = ipyleaflet.Map(#layers=(layer,),\n",
    "                            center=center,\n",
    "                            zoom=6)\n",
    "\n",
    "mapplaces.layout.width = '100%'\n",
    "mapplaces.layout.height = '800px'\n",
    "\n",
    "markers = []\n",
    "for idx in df_joined.index:\n",
    "    if df_joined.loc[idx,'Coordinates'] and not isinstance(df_joined.loc[idx,'Lemma'], float):\n",
    "        title = list2string(collections.Counter(df_joined.loc[idx,'Lemma']).most_common(6))\n",
    "        markers.append(ipyleaflet.Marker(location=df_joined.loc[idx,'Coordinates'][-1::-1], draggable=False, title=title))\n",
    "                       \n",
    "marker_cluster = ipyleaflet.MarkerCluster(markers=tuple(markers))                       \n",
    "mapplaces.add_layer(marker_cluster);\n",
    "\n",
    "\n",
    "mapplaces"
   ]
  },
  {
   "cell_type": "code",
   "execution_count": null,
   "metadata": {},
   "outputs": [],
   "source": [
    "#using Folio\n",
    "\n",
    "mapplaces = folium.Map(location=(47,14),\n",
    "               zoom_start=4)\n",
    "\n",
    "mc = folium.plugins.MarkerCluster()\n",
    "\n",
    "for idx in df_joined.index:\n",
    "     if df_joined.loc[idx,'Coordinates'] and not isinstance(df_joined.loc[idx,'Lemma'], float):\n",
    "        title = list2string(collections.Counter(df_joined.loc[idx,'Lemma']).most_common(6))\n",
    "        mc.add_child(folium.Marker(location=df_joined.loc[idx,'Coordinates'][-1::-1], popup=title))\n",
    "        \n",
    "                     \n",
    "mapplaces.add_child(mc)\n",
    "mapplaces"
   ]
  },
  {
   "cell_type": "code",
   "execution_count": null,
   "metadata": {},
   "outputs": [],
   "source": [
    "mapplaces.save('./lemmas_places.html')"
   ]
  },
  {
   "cell_type": "code",
   "execution_count": null,
   "metadata": {},
   "outputs": [],
   "source": []
  }
 ],
 "metadata": {
  "kernelspec": {
   "display_name": "Python 3",
   "language": "python",
   "name": "python3"
  },
  "language_info": {
   "codemirror_mode": {
    "name": "ipython",
    "version": 3
   },
   "file_extension": ".py",
   "mimetype": "text/x-python",
   "name": "python",
   "nbconvert_exporter": "python",
   "pygments_lexer": "ipython3",
   "version": "3.7.1"
  }
 },
 "nbformat": 4,
 "nbformat_minor": 2
}
