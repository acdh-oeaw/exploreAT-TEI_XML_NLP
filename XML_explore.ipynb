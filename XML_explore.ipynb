{
 "cells": [
  {
   "cell_type": "code",
   "execution_count": null,
   "metadata": {},
   "outputs": [],
   "source": [
    "import pathlib\n",
    "from collections import Counter, defaultdict\n",
    "import collections\n",
    "from pprint import pprint\n",
    "from io import StringIO\n",
    "import os\n",
    "import sys\n",
    "import time\n",
    "import datetime\n",
    "\n",
    "import numpy as np\n",
    "import pandas as pd\n",
    "from pandas.tools.plotting import parallel_coordinates\n",
    "\n",
    "from bs4 import BeautifulSoup\n",
    "from xml.dom import minidom\n",
    "from xml.etree import ElementTree as ET\n",
    "#from lxml import etree as ET #Supports xpath syntax\n",
    "\n",
    "import xmltodict \n",
    "\n",
    "#https://stackoverflow.com/questions/2148119/how-to-convert-an-xml-string-to-a-dictionary-in-python\n",
    "#https://github.com/martinblech/xmltodict\n",
    "#https://www.datacamp.com/community/tutorials/python-xml-elementtree\n",
    "#https://stackabuse.com/reading-and-writing-xml-files-in-python/\n",
    "#https://codereview.stackexchange.com/questions/117810/parsing-of-xml-in-python-using-minidom-and-inserting-data-into-a-database\n",
    "#https://stackoverflow.com/questions/749796/pretty-printing-xml-in-python"
   ]
  },
  {
   "cell_type": "code",
   "execution_count": null,
   "metadata": {},
   "outputs": [],
   "source": [
    "pwd"
   ]
  },
  {
   "cell_type": "markdown",
   "metadata": {},
   "source": [
    "Reading the XML Metadata files:"
   ]
  },
  {
   "cell_type": "code",
   "execution_count": null,
   "metadata": {},
   "outputs": [],
   "source": [
    "readme =  './TEI-XML-2018/README_English.txt'\n",
    "print((open(readme, encoding=\"latin-1\").read()))"
   ]
  },
  {
   "cell_type": "markdown",
   "metadata": {},
   "source": [
    "Processing Information on Places"
   ]
  },
  {
   "cell_type": "code",
   "execution_count": null,
   "metadata": {},
   "outputs": [],
   "source": [
    "placesfile =  './TEI-XML-2018/helper_tables/listPlace.xml'\n",
    "#print((open(placesfile, encoding=\"utf-8\").read()))\n",
    "placestree = ET.parse(placesfile)\n",
    "placesroot = placestree.getroot()\n",
    "set([elem.tag for elem in placesroot.iter()])"
   ]
  },
  {
   "cell_type": "code",
   "execution_count": null,
   "metadata": {},
   "outputs": [],
   "source": [
    "placesdict = xmltodict.parse((open(placesfile, encoding=\"utf-8\").read()))\n",
    "print(placesdict.keys())\n",
    "print(placesdict['listPlace'].keys())"
   ]
  },
  {
   "cell_type": "code",
   "execution_count": null,
   "metadata": {},
   "outputs": [],
   "source": [
    "placeslist = placesdict['listPlace']['place']\n",
    "state_bundesland = [p['placeName'] for p in placeslist]\n",
    "print(state_bundesland)"
   ]
  },
  {
   "cell_type": "code",
   "execution_count": null,
   "metadata": {},
   "outputs": [],
   "source": [
    "placeslist[0]['listPlace']['place']['listPlace']['place']['listPlace']['place']['listPlace']['place'][0]['record']"
   ]
  },
  {
   "cell_type": "code",
   "execution_count": null,
   "metadata": {},
   "outputs": [],
   "source": [
    "placeslist[1]['listPlace']['place'][0]['listPlace']['place'][0]['listPlace']['place'][0]['listPlace']['place'][0]['record']"
   ]
  },
  {
   "cell_type": "code",
   "execution_count": null,
   "metadata": {},
   "outputs": [],
   "source": [
    "placeslist[2]['listPlace']['place']['listPlace']['place'][0]['listPlace']['place'][0]['listPlace']['place']['record']"
   ]
  },
  {
   "cell_type": "code",
   "execution_count": null,
   "metadata": {},
   "outputs": [],
   "source": [
    "placeslist[3]['listPlace']['place'][0]['listPlace']['place'][0]['listPlace']['place']['listPlace']['place']['record']"
   ]
  },
  {
   "cell_type": "code",
   "execution_count": null,
   "metadata": {},
   "outputs": [],
   "source": [
    "def show_record(something):\n",
    "    while True:\n",
    "        flag = False\n",
    "        #print(type(something))\n",
    "        if isinstance(something, collections.OrderedDict) and ('record' in something.keys()):\n",
    "            #print(something['record'])\n",
    "            try:\n",
    "                print(something['record']['Ort'])\n",
    "            except:\n",
    "                for d in something['record']:\n",
    "                    print(d['Ort'])\n",
    "            flag = True\n",
    "            #print('if1')\n",
    "        elif isinstance(something, collections.OrderedDict):\n",
    "            something = something['listPlace']['place']\n",
    "            #print('if2')\n",
    "        else:\n",
    "            #print('if3')\n",
    "            #print(type(something))\n",
    "            for elem in something:\n",
    "                show_record(elem)\n",
    "        if flag:\n",
    "            break\n",
    "        time.sleep(0.01)"
   ]
  },
  {
   "cell_type": "code",
   "execution_count": null,
   "metadata": {},
   "outputs": [],
   "source": [
    "show_record(placeslist[0])"
   ]
  },
  {
   "cell_type": "code",
   "execution_count": null,
   "metadata": {},
   "outputs": [],
   "source": [
    "OrderedDict([('Ort', 'Altmannsdorf'), ('Gemeinde', 'Wien'), ('Kleinregion', 'W.'), ('Großregion', 'W.'), ('Bundesland', 'W.'), ('Sigle_DB', None), ('Kommentar', None)])"
   ]
  },
  {
   "cell_type": "code",
   "execution_count": null,
   "metadata": {},
   "outputs": [],
   "source": [
    "greaterregion_Großregion_dics = [p['listPlace']['place'] for p in placesdict['listPlace']['place']][0]\n",
    "greaterregion_Großregion_dics\n",
    "#greaterregion_Großregion = [p['placeName'] for p in greaterregion_Großregion_dics]\n",
    "#print(greaterregion_Großregion)"
   ]
  },
  {
   "cell_type": "code",
   "execution_count": null,
   "metadata": {},
   "outputs": [],
   "source": []
  },
  {
   "cell_type": "code",
   "execution_count": null,
   "metadata": {},
   "outputs": [],
   "source": [
    "print([p for p in placesdict['listPlace']['place']])"
   ]
  },
  {
   "cell_type": "markdown",
   "metadata": {},
   "source": [
    "Reading the XML Data files:"
   ]
  },
  {
   "cell_type": "code",
   "execution_count": null,
   "metadata": {},
   "outputs": [],
   "source": [
    "xmlfile =  './TEI-XML-2018/bel_d-tei-02/d157_qdb-TEI-02.xml'\n",
    "#xmlfile = open(xmlfile, mode='r', encoding='utf-8').read()\n",
    "namespaces = {'TEI': 'http://www.tei-c.org/ns/1.0'} # add more as needed"
   ]
  },
  {
   "cell_type": "markdown",
   "metadata": {},
   "source": [
    "Parsing the XML tree"
   ]
  },
  {
   "cell_type": "code",
   "execution_count": null,
   "metadata": {},
   "outputs": [],
   "source": [
    "xmldoc = minidom.parse(xmlfile)  #xmldoc = ET.XML(xmlfile)\n",
    "bs = BeautifulSoup(open(xmlfile, encoding=\"utf8\"), 'xml')\n",
    "tree = ET.parse(xmlfile)"
   ]
  },
  {
   "cell_type": "code",
   "execution_count": null,
   "metadata": {},
   "outputs": [],
   "source": [
    "root = tree.getroot()\n",
    "print(root)"
   ]
  },
  {
   "cell_type": "code",
   "execution_count": null,
   "metadata": {},
   "outputs": [],
   "source": [
    "my_namespaces = dict([node for _, node in ET.iterparse(StringIO(open(xmlfile, mode='r', encoding='utf-8').read()), events=['start-ns'])])\n",
    "print(my_namespaces)"
   ]
  },
  {
   "cell_type": "code",
   "execution_count": null,
   "metadata": {},
   "outputs": [],
   "source": [
    "for child in root:\n",
    "    print(child.tag, child.attrib)"
   ]
  },
  {
   "cell_type": "code",
   "execution_count": null,
   "metadata": {},
   "outputs": [],
   "source": [
    "set([elem.tag for elem in root.iter()])"
   ]
  },
  {
   "cell_type": "code",
   "execution_count": null,
   "metadata": {},
   "outputs": [],
   "source": [
    "places = []\n",
    "for elem in root.iter('{http://www.tei-c.org/ns/1.0}place'):\n",
    "    # print(elem.attrib)\n",
    "    # print(elem.attrib['type'])\n",
    "    places.append(elem.attrib['type'])\n",
    "freq_places = Counter(places)\n",
    "freq_places.most_common()"
   ]
  },
  {
   "cell_type": "code",
   "execution_count": null,
   "metadata": {},
   "outputs": [],
   "source": [
    "for elem in root.iter('{http://www.tei-c.org/ns/1.0}cit'):\n",
    "    print(elem.attrib)"
   ]
  },
  {
   "cell_type": "code",
   "execution_count": null,
   "metadata": {},
   "outputs": [],
   "source": []
  }
 ],
 "metadata": {
  "kernelspec": {
   "display_name": "Python 3",
   "language": "python",
   "name": "python3"
  },
  "language_info": {
   "codemirror_mode": {
    "name": "ipython",
    "version": 3
   },
   "file_extension": ".py",
   "mimetype": "text/x-python",
   "name": "python",
   "nbconvert_exporter": "python",
   "pygments_lexer": "ipython3",
   "version": "3.5.2"
  }
 },
 "nbformat": 4,
 "nbformat_minor": 2
}
