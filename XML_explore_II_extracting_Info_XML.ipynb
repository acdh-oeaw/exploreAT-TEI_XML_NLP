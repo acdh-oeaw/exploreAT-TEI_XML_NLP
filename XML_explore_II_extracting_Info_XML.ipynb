{
 "cells": [
  {
   "cell_type": "raw",
   "metadata": {},
   "source": [
    "# jupyter notebook\n",
    "#conda install nb_conda\n",
    "#conda install nodejs\n",
    "#jupyter labextension install jupyter-leaflet\n",
    "#jupyter nbextension enable --py --sys-prefix widgetsnbextension\n",
    "!jupyter nbextension enable --py --sys-prefix ipyleaflet"
   ]
  },
  {
   "cell_type": "raw",
   "metadata": {},
   "source": [
    "##jupyter lab\n",
    "!jupyter labextension install jupyter-leaflet\n",
    "!jupyter labextension install @jupyter-widgets/jupyterlab-manager"
   ]
  },
  {
   "cell_type": "code",
   "execution_count": 1,
   "metadata": {},
   "outputs": [],
   "source": [
    "import os\n",
    "import sys\n",
    "import time\n",
    "import pickle\n",
    "import string\n",
    "from datetime import datetime\n",
    "from datetime import timedelta\n",
    "from itertools import chain, cycle\n",
    "import collections\n",
    "from pprint import pprint\n",
    "from io import StringIO\n",
    "import pathlib\n",
    "import sqlite3\n",
    "\n",
    "import numpy as np\n",
    "import pandas as pd\n",
    "import dask.dataframe as dd\n",
    "from pandas.plotting import parallel_coordinates\n",
    "import matplotlib.pyplot as plt\n",
    "\n",
    "#import urllib\n",
    "#import webbrowser\n",
    "#import codecs\n",
    "from bs4 import BeautifulSoup\n",
    "from xml.dom import minidom\n",
    "from xml.etree import ElementTree as ET\n",
    "#from lxml import etree as ET #Supports xpath syntax\n",
    "import lxml\n",
    "import xmltodict \n",
    "\n",
    "import nltk\n",
    "import re\n",
    "import Levenshtein\n",
    "import networkx as nx\n",
    "import json\n",
    "\n",
    "#from nominatim import Nominatim\n",
    "#from mpl_toolkits.basemap import Basemap   #http://matplotlib.org/basemap/api/basemap_api.html\n",
    "from matplotlib import cm\n",
    "import geopy.geocoders as gg\n",
    "from geopy.geocoders import Nominatim\n",
    "import geopandas as gpd\n",
    "import ipyleaflet\n",
    "#from ipyleaflet import Map, basemaps, basemap_to_tiles, DrawControl, WMSLayer, Marker, MarkerCluster\n",
    "\n",
    "##https://python-visualization.github.io/folium/docs-v0.6.0/\n",
    "#https://towardsdatascience.com/data-101s-spatial-visualizations-and-analysis-in-python-with-folium-39730da2adf\n",
    "import folium\n",
    "import folium.plugins\n",
    "#from folium.plugins import MarkerCluster\n",
    "#from folium.plugins import FastMarkerCluster\n",
    "\n",
    "\n",
    "#import plotly as py\n",
    "#import plotly.graph_objs as go\n",
    "#import plotly.figure_factory as ff\n",
    "\n",
    "from IPython.display import Image, HTML, IFrame, FileLink, FileLinks #needed to render in notebook\n",
    "from IPython.core.display import display\n",
    "from IPython.display import clear_output\n",
    "\n",
    "#import pydotplus #Install http://www.graphviz.org/ & Instal https://pypi.python.org/pypi/pydotplus\n",
    "\n",
    "#https://stackoverflow.com/questions/2148119/how-to-convert-an-xml-string-to-a-dictionary-in-python\n",
    "#https://github.com/martinblech/xmltodict\n",
    "#https://www.datacamp.com/community/tutorials/python-xml-elementtree\n",
    "#https://stackabuse.com/reading-and-writing-xml-files-in-python/\n",
    "#https://codereview.stackexchange.com/questions/117810/parsing-of-xml-in-python-using-minidom-and-inserting-data-into-a-database\n",
    "#https://stackoverflow.com/questions/749796/pretty-printing-xml-in-python\n",
    "#https://hackersandslackers.com/dealing-with-xml-in-python/"
   ]
  },
  {
   "cell_type": "code",
   "execution_count": 2,
   "metadata": {},
   "outputs": [
    {
     "data": {
      "text/plain": [
       "'/home/rsouza/Documents/repos/exploreAT-TEI_XML_NLP'"
      ]
     },
     "execution_count": 2,
     "metadata": {},
     "output_type": "execute_result"
    }
   ],
   "source": [
    "pwd"
   ]
  },
  {
   "cell_type": "markdown",
   "metadata": {},
   "source": [
    "### PART II: Extracting information from XML data files"
   ]
  },
  {
   "cell_type": "markdown",
   "metadata": {},
   "source": [
    "#### Reading a single XML Data file to test:"
   ]
  },
  {
   "cell_type": "code",
   "execution_count": 4,
   "metadata": {},
   "outputs": [],
   "source": [
    "#xmlfile =  './TEI-XML-2018/bel_d-tei-02/d157_qdb-TEI-02.xml'\n",
    "xmlfile =  './TEI-XML-2018/bel_e-tei-02/e206_qdb-TEI-02.xml'\n",
    "\n",
    "namespaces = {'TEI': 'http://www.tei-c.org/ns/1.0'} # add more as needed"
   ]
  },
  {
   "cell_type": "markdown",
   "metadata": {},
   "source": [
    "Parsing the XML tree"
   ]
  },
  {
   "cell_type": "code",
   "execution_count": 5,
   "metadata": {},
   "outputs": [],
   "source": [
    "xmldoc = minidom.parse(xmlfile)  #xmldoc = ET.XML(xmlfile)\n",
    "bs = BeautifulSoup(open(xmlfile, encoding=\"utf8\"), 'xml')\n",
    "tree = ET.parse(xmlfile)"
   ]
  },
  {
   "cell_type": "code",
   "execution_count": 6,
   "metadata": {},
   "outputs": [
    {
     "name": "stdout",
     "output_type": "stream",
     "text": [
      "<Element '{http://www.tei-c.org/ns/1.0}TEI' at 0x7f44d80c3598>\n"
     ]
    }
   ],
   "source": [
    "root = tree.getroot()\n",
    "print(root)"
   ]
  },
  {
   "cell_type": "code",
   "execution_count": 7,
   "metadata": {},
   "outputs": [
    {
     "name": "stdout",
     "output_type": "stream",
     "text": [
      "{'': 'http://www.tei-c.org/ns/1.0'}\n"
     ]
    }
   ],
   "source": [
    "my_namespaces = dict([node for _, node in ET.iterparse(StringIO(open(xmlfile, mode='r', encoding='utf-8').read()), events=['start-ns'])])\n",
    "print(my_namespaces)"
   ]
  },
  {
   "cell_type": "code",
   "execution_count": 8,
   "metadata": {},
   "outputs": [
    {
     "name": "stdout",
     "output_type": "stream",
     "text": [
      "{http://www.tei-c.org/ns/1.0}teiHeader {}\n",
      "{http://www.tei-c.org/ns/1.0}text {}\n"
     ]
    }
   ],
   "source": [
    "for child in root:\n",
    "    print(child.tag, child.attrib)"
   ]
  },
  {
   "cell_type": "code",
   "execution_count": 9,
   "metadata": {},
   "outputs": [
    {
     "data": {
      "text/plain": [
       "{'{http://www.tei-c.org/ns/1.0}TEI',\n",
       " '{http://www.tei-c.org/ns/1.0}att',\n",
       " '{http://www.tei-c.org/ns/1.0}body',\n",
       " '{http://www.tei-c.org/ns/1.0}certainty',\n",
       " '{http://www.tei-c.org/ns/1.0}cit',\n",
       " '{http://www.tei-c.org/ns/1.0}date',\n",
       " '{http://www.tei-c.org/ns/1.0}def',\n",
       " '{http://www.tei-c.org/ns/1.0}edition',\n",
       " '{http://www.tei-c.org/ns/1.0}editionStmt',\n",
       " '{http://www.tei-c.org/ns/1.0}editorialDecl',\n",
       " '{http://www.tei-c.org/ns/1.0}encodingDesc',\n",
       " '{http://www.tei-c.org/ns/1.0}entry',\n",
       " '{http://www.tei-c.org/ns/1.0}etym',\n",
       " '{http://www.tei-c.org/ns/1.0}figDesc',\n",
       " '{http://www.tei-c.org/ns/1.0}figure',\n",
       " '{http://www.tei-c.org/ns/1.0}fileDesc',\n",
       " '{http://www.tei-c.org/ns/1.0}form',\n",
       " '{http://www.tei-c.org/ns/1.0}geoDecl',\n",
       " '{http://www.tei-c.org/ns/1.0}gi',\n",
       " '{http://www.tei-c.org/ns/1.0}gram',\n",
       " '{http://www.tei-c.org/ns/1.0}gramGrp',\n",
       " '{http://www.tei-c.org/ns/1.0}idno',\n",
       " '{http://www.tei-c.org/ns/1.0}interp',\n",
       " '{http://www.tei-c.org/ns/1.0}label',\n",
       " '{http://www.tei-c.org/ns/1.0}listPlace',\n",
       " '{http://www.tei-c.org/ns/1.0}listPrefixDef',\n",
       " '{http://www.tei-c.org/ns/1.0}name',\n",
       " '{http://www.tei-c.org/ns/1.0}note',\n",
       " '{http://www.tei-c.org/ns/1.0}orth',\n",
       " '{http://www.tei-c.org/ns/1.0}p',\n",
       " '{http://www.tei-c.org/ns/1.0}pRef',\n",
       " '{http://www.tei-c.org/ns/1.0}place',\n",
       " '{http://www.tei-c.org/ns/1.0}placeName',\n",
       " '{http://www.tei-c.org/ns/1.0}pos',\n",
       " '{http://www.tei-c.org/ns/1.0}prefixDef',\n",
       " '{http://www.tei-c.org/ns/1.0}pron',\n",
       " '{http://www.tei-c.org/ns/1.0}ptr',\n",
       " '{http://www.tei-c.org/ns/1.0}publicationStmt',\n",
       " '{http://www.tei-c.org/ns/1.0}quote',\n",
       " '{http://www.tei-c.org/ns/1.0}re',\n",
       " '{http://www.tei-c.org/ns/1.0}ref',\n",
       " '{http://www.tei-c.org/ns/1.0}resp',\n",
       " '{http://www.tei-c.org/ns/1.0}respStmt',\n",
       " '{http://www.tei-c.org/ns/1.0}sense',\n",
       " '{http://www.tei-c.org/ns/1.0}sourceDesc',\n",
       " '{http://www.tei-c.org/ns/1.0}teiHeader',\n",
       " '{http://www.tei-c.org/ns/1.0}text',\n",
       " '{http://www.tei-c.org/ns/1.0}title',\n",
       " '{http://www.tei-c.org/ns/1.0}titleStmt',\n",
       " '{http://www.tei-c.org/ns/1.0}usg',\n",
       " '{http://www.tei-c.org/ns/1.0}val'}"
      ]
     },
     "execution_count": 9,
     "metadata": {},
     "output_type": "execute_result"
    }
   ],
   "source": [
    "set([elem.tag for elem in root.iter()])"
   ]
  },
  {
   "cell_type": "code",
   "execution_count": 10,
   "metadata": {},
   "outputs": [
    {
     "name": "stdout",
     "output_type": "stream",
     "text": [
      "{http://www.w3.org/XML/1998/namespace}id ==> e206_qdb-d1e2\n",
      "{http://www.w3.org/XML/1998/namespace}lang ==> bar\n"
     ]
    }
   ],
   "source": [
    "#for elem in root.iter():\n",
    "for elem in root.iter('{http://www.tei-c.org/ns/1.0}entry'):\n",
    "    for attrName, attrValue in elem.items():\n",
    "        print(attrName + ' ==> ' + attrValue)\n",
    "    break\n",
    "    print(elem.tag)\n",
    "    print(elem.text)\n",
    "    print(elem.attrib)\n",
    "    print(elem.items())\n",
    "    print('\\n')"
   ]
  },
  {
   "cell_type": "code",
   "execution_count": 11,
   "metadata": {},
   "outputs": [
    {
     "data": {
      "text/plain": [
       "'{http://www.tei-c.org/ns/1.0}TEI'"
      ]
     },
     "execution_count": 11,
     "metadata": {},
     "output_type": "execute_result"
    }
   ],
   "source": [
    "root.tag"
   ]
  },
  {
   "cell_type": "markdown",
   "metadata": {},
   "source": [
    "#### Iterating through all XML Data files"
   ]
  },
  {
   "cell_type": "code",
   "execution_count": 12,
   "metadata": {},
   "outputs": [
    {
     "data": {
      "text/plain": [
       "['bel_s-tei-02',\n",
       " 'bel_g-tei-02',\n",
       " 'bel_q-r-tei-02',\n",
       " 'bel_k-tei-02',\n",
       " 'bel_u-w-tei-02',\n",
       " 'bel_e-tei-02',\n",
       " 'bel_n-o-p-tei-02',\n",
       " 'bel_l-tei-02',\n",
       " 'bel_h-tei-02',\n",
       " 'bel_z-tei-02',\n",
       " 'bel_i-j-tei-02',\n",
       " 'bel_f-tei-02',\n",
       " 'bel_m-tei-02',\n",
       " 'bel_d-tei-02']"
      ]
     },
     "execution_count": 12,
     "metadata": {},
     "output_type": "execute_result"
    }
   ],
   "source": [
    "datapath = './TEI-XML-2018/'\n",
    "onlydirs = [f for f in os.listdir(datapath) if os.path.isdir(os.path.join(datapath,f)) and f.startswith('bel')]\n",
    "onlydirs"
   ]
  },
  {
   "cell_type": "code",
   "execution_count": 21,
   "metadata": {},
   "outputs": [
    {
     "name": "stdout",
     "output_type": "stream",
     "text": [
      "Files in the folder:\n",
      "1 -- ./TEI-XML-2018/bel_s-tei-02/s701_qdb-TEI-02.xml\n",
      "2 -- ./TEI-XML-2018/bel_s-tei-02/s789_qdb-TEI-02.xml\n",
      "3 -- ./TEI-XML-2018/bel_s-tei-02/s712_qdb-TEI-02.xml\n",
      "4 -- ./TEI-XML-2018/bel_s-tei-02/s757_qdb-TEI-02.xml\n",
      "5 -- ./TEI-XML-2018/bel_s-tei-02/s811_qdb-TEI-02.xml\n",
      "6 -- ./TEI-XML-2018/bel_s-tei-02/s743_qdb-TEI-02.xml\n",
      "7 -- ./TEI-XML-2018/bel_s-tei-02/s697_qdb-TEI-02.xml\n",
      "8 -- ./TEI-XML-2018/bel_s-tei-02/s751_qdb-TEI-02.xml\n",
      "9 -- ./TEI-XML-2018/bel_s-tei-02/s729_qdb-TEI-02.xml\n",
      "10 -- ./TEI-XML-2018/bel_s-tei-02/s685_qdb-TEI-02.xml\n",
      "11 -- ./TEI-XML-2018/bel_s-tei-02/s761_qdb-TEI-02.xml\n",
      "12 -- ./TEI-XML-2018/bel_s-tei-02/s719_qdb-TEI-02.xml\n",
      "13 -- ./TEI-XML-2018/bel_s-tei-02/s698_qdb-TEI-02.xml\n",
      "14 -- ./TEI-XML-2018/bel_s-tei-02/s688_qdb-TEI-02.xml\n",
      "15 -- ./TEI-XML-2018/bel_s-tei-02/s776_qdb-TEI-02.xml\n",
      "16 -- ./TEI-XML-2018/bel_s-tei-02/s708_qdb-TEI-02.xml\n",
      "17 -- ./TEI-XML-2018/bel_s-tei-02/s740_qdb-TEI-02.xml\n",
      "18 -- ./TEI-XML-2018/bel_s-tei-02/s807_qdb-TEI-02.xml\n",
      "19 -- ./TEI-XML-2018/bel_s-tei-02/s779_qdb-TEI-02.xml\n",
      "20 -- ./TEI-XML-2018/bel_s-tei-02/s732_qdb-TEI-02.xml\n"
     ]
    }
   ],
   "source": [
    "onlyfiles = []\n",
    "for folder in onlydirs:\n",
    "    for filex in [f for f in os.listdir(os.path.join(datapath, folder)) if os.path.isfile(os.path.join(datapath, folder, f)) \\\n",
    "                                       and not f.startswith('.')]:\n",
    "        onlyfiles.append('{}{}/{}'.format(datapath, folder, filex))\n",
    "\n",
    "\n",
    "print('Files in the folder:')\n",
    "for i, w in enumerate(onlyfiles[0:20]):\n",
    "    print(i+1, '--' ,w)"
   ]
  },
  {
   "cell_type": "code",
   "execution_count": 23,
   "metadata": {},
   "outputs": [
    {
     "name": "stdout",
     "output_type": "stream",
     "text": [
      "Processing time is 6.47 minutes for file 720\n",
      "./TEI-XML-2018/bel_d-tei-02/d158_qdb-TEI-02.xml\n",
      "./TEI-XML-2018/bel_d-tei-02/d171_qdb-TEI-02.xml\n",
      "Skizze siehe HKt171 01.tif, HK\n",
      "entlang der Längsseiten des HausesSkizze siehe HKt171 02.tif, HK\n",
      "Stellen FÜR Milchschüsseln MIT drehbarem Baum vom Boden bis zur DeckeSkizze siehe HKt171 03.tif, HK\n",
      "Skizze siehe HKt171 04.tif, HK\n",
      "s. (Holzknecht)seldet171 05.tif, HK (ohne Zeichnung)\n",
      "./TEI-XML-2018/bel_d-tei-02/d159_qdb-TEI-02.xml\n",
      "d159 01.tif, HK\n",
      "d159 02.tif, HK\n",
      "d159 03.tif, HK\n",
      "Zeichng. HKd159 04.tif, HK\n",
      "Zeichng. HKd159 05.tif, HK\n",
      "Zeichng. HKd159 06.tif, HK\n",
      "./TEI-XML-2018/bel_d-tei-02/d183_qdb-TEI-02.xml\n",
      "Zeichng. HKt183 01.tif, HK\n",
      "Aus einem Stück zarten Holzes gearbeitet; aus weichem Holz.t183 02.tif, HK\n",
      "Zeichng. HKt183 03.tif, HK\n",
      "Manche Backtröge sind wie große Waschtröge; sie stehen auf 2 Stühlen.Zeichng. HKt183 04.tif, HK\n",
      "Zeichng. HKt183 05.tif, HK\n",
      "Zeichng. HKt183 06.tif, HK\n",
      "Der Backtrog bei gewerbl. Bäckern hat obige Form, ist 2-3 m lang, 0.5 m tief; bei Bauern ist er kleiner.Zeichng. HKt183 07.tif, HK\n",
      "Er ist entweder aus Holz oder aus Zinkblech, halbrund eingemauert, oder ruht auf einem Holzgestelle.Zeichng. HKt183 08.tif, HK\n",
      "Ist beim Bäcker mit einem Brett zugedeckt, das zugleich als \"Tafel\" dient und zurückzuklappen ist. Die Backtröge für das Weissgebäck sind mit Zinkblech ausgefüttert.t183 09.tif, HK\n",
      "An den Köpfen abgeschrägtes Parallelepiped mit trapezförmigen Profil.t183 10.tif, HK\n",
      "s. a. u.\n",
      "Zeichng. HKt183 12.tif, HK\n",
      "Zeichng. HKt183 13.tif, HK\n",
      "Zeichng. HKt183 14.tif, HK\n",
      "Zeichng. HKt183 15.tif, HK\n",
      "Skizze s. Quelle!(im Buch, nicht eingescannt)\n",
      "Zeichng. HKt183 16.tif, HK\n",
      "Aus Holz. Zeichng. HKt183 17.tif, HK\n",
      "Zeichng. HKt183 18.tif, HK\n",
      "(Beleg ohne Zeichnung)\n",
      "wie sie z.B. Soldaten als Schützenauszeichng. tragen(Beleg ohne Zeichnung)\n",
      "(Beleg ohne Zeichnung)\n",
      "./TEI-XML-2018/bel_d-tei-02/d187_qdb-TEI-02.xml\n",
      "\n",
      "            \n",
      "\n",
      "            \n",
      "Zeichng. HKt187 02.tif, HK\n",
      "+? (IN STENO). Monoxyl aus einem (!) Stück Holz. Zeichng. HKt187 03.tif, HK\n",
      "Zeichng. HKt187 04.tif, HK\n",
      "bei Kleidern zum Schließen durch DrückenZeichng. HKt187 05tif, HK\n",
      "Zeichng. HKt187 06.tif, HK\n",
      "Für Hühnerfutter oder um unter das Kochmehl zu mischen (war lang vor dem Krieg allg. üblich)s. Leibl.=Abb.; aus dem Vormerkblock 1.Lief.(Zeichnung nicht vorhanden)\n",
      "s. Abb. Quelle(im Buch, nicht eingescannt)\n",
      "Zeichng. HKt187 07.tif, HK\n",
      "von Manwörth bis Petronell heißt es\n",
      "./TEI-XML-2018/bel_d-tei-02/d181_qdb-TEI-02.xml\n",
      "s. Abb. / Zeichng. HK! Rollbahn zur Säget181 01.tif, HK\n",
      "besteht aus einer durchlochten Eisenplatte und aus einem Haken. s. Abb. / Zeichng. HK!t181 02.tif, HK\n",
      "./TEI-XML-2018/bel_d-tei-02/d176_qdb-TEI-02.xml\n",
      "\n",
      "            \n",
      "(Keine Zeichnung)\n",
      "t176 01.tif, HK (fehlt)\n",
      "(im Buch, nicht eingescannt)\n",
      "Abb. s. HKt176 02.tif, HK\n",
      "Abb. s. HK; a) Holz b) Eisen b) wurde in die Löcher des Spindelkopfes gestecktt176 03.tif, HK\n",
      "Abb. s. HKt176 04.tif, HK\n",
      "Ztw.\n",
      "t176 06.tif, HK (im Buch, nicht eingescannt)\n",
      "./TEI-XML-2018/bel_d-tei-02/d196_qdb-TEI-02.xml\n",
      "Total Processing time was 7.08 minutes\n"
     ]
    }
   ],
   "source": [
    "t0 = time.time()\n",
    "\n",
    "columns=['filename',\n",
    "         'entry_id',\n",
    "         'date',\n",
    "         'usg_corresp', \n",
    "         'simple_placeName',\n",
    "         'orig_placeName',\n",
    "         'placeName_id',\n",
    "         'Bundesland',\n",
    "         'Bundesland_idno',\n",
    "         'Großregion',\n",
    "         'Großregion_idno',\n",
    "         'Kleinregion',\n",
    "         'Kleinregion_idno',\n",
    "         'Gemeinde',\n",
    "         'Gemeinde_idno',\n",
    "         'Ort',\n",
    "         'Ort_idno',\n",
    "         'hauptlemma_unique',\n",
    "         'hauptlemma_orig',\n",
    "         'hauptlemma_normalized',\n",
    "         'nebenlemma_unique',\n",
    "         'nebenlemma_orig',\n",
    "         'nebenlemma_normalized',\n",
    "         'verweise',\n",
    "         'archiv',\n",
    "         'quelle',\n",
    "         'quelleBearbeitet',\n",
    "         'seite',\n",
    "         'fragebogenNummer',\n",
    "         'paragraph',\n",
    "         'bibl',\n",
    "         'tustep',\n",
    "         'pos',\n",
    "         'etym',\n",
    "         'note_notabene',\n",
    "         'note_anmerkung',\n",
    "         'note_diverse',\n",
    "         'citation'\n",
    "         'cit_type',\n",
    "         'cit_quote',\n",
    "         'cit_def',\n",
    "         'cit_interp',\n",
    "         'cit_ref',\n",
    "         'cit_pRef',\n",
    "         'cit_note',\n",
    "         'cit_re',\n",
    "         'cit_certainty',\n",
    "         'sense',\n",
    "         'ref',\n",
    "         'ref_pRef',\n",
    "         'ref_date',\n",
    "         'ref_num',\n",
    "         'ref_certainty',\n",
    "         'figure'\n",
    "        ]\n",
    "\n",
    "df_lemmas = pd.DataFrame()\n",
    "list_records = []\n",
    "\n",
    "for fileid, teixmlfile in enumerate(onlyfiles):\n",
    "    #print(teixmlfile)\n",
    "    root = ET.parse(teixmlfile).getroot()\n",
    "    for entry in root.iter('{http://www.tei-c.org/ns/1.0}entry'):\n",
    "\n",
    "        record = {'filename': teixmlfile,\n",
    "                  'entry_id': None,\n",
    "                  'date': None,\n",
    "                  'usg_corresp': None,\n",
    "                  'simple_placeName': None,\n",
    "                  'orig_placeName': None,\n",
    "                  'placeName_id': None,\n",
    "                  'Bundesland': None,\n",
    "                  'Bundesland_idno': None,\n",
    "                  'Großregion': None,\n",
    "                  'Großregion_idno': None,\n",
    "                  'Kleinregion': None,\n",
    "                  'Kleinregion_idno': None,\n",
    "                  'Gemeinde': None,\n",
    "                  'Gemeinde_idno': None,\n",
    "                  'Ort': None,\n",
    "                  'Ort_idno': None,\n",
    "                  'hauptlemma_unique': None,\n",
    "                  'hauptlemma_orig': None,\n",
    "                  'hauptlemma_normalized': None,\n",
    "                  'nebenlemma_unique': None,\n",
    "                  'nebenlemma_orig': None,\n",
    "                  'nebenlemma_normalized': None,\n",
    "                  'verweise': None,\n",
    "                  'archiv': None,\n",
    "                  'quelle': None,\n",
    "                  'quelleBearbeitet': None,\n",
    "                  'seite': None,\n",
    "                  'fragebogenNummer': None,\n",
    "                  'paragraph': None,\n",
    "                  'bibl': [],\n",
    "                  'tustep': [],\n",
    "                  'pos': None,\n",
    "                  'etym': [],\n",
    "                  'note_notabene': None,\n",
    "                  'note_anmerkung': None,\n",
    "                  'note_diverse': None,\n",
    "                  'citation': [],\n",
    "                  'cit_quote': [],\n",
    "                  'cit_def': [],\n",
    "                  'cit_interp': [],\n",
    "                  'cit_ref': [],\n",
    "                  'cit_pRef': [],\n",
    "                  'cit_note': [],\n",
    "                  'cit_re':[],\n",
    "                  'cit_certainty':[],\n",
    "                  'sense': [],\n",
    "                  'ref': [],\n",
    "                  'ref_pRef': [],\n",
    "                  'ref_date': [],\n",
    "                  'ref_num': [],\n",
    "                  'ref_certainty': [],\n",
    "                  'figure': None,\n",
    "                 }\n",
    "\n",
    "        record['entry_id'] = entry.attrib['{http://www.w3.org/XML/1998/namespace}id']\n",
    "        \n",
    "        for child in entry.iter():\n",
    "            level = 'simple_placeName'\n",
    "            if child.tag == '{http://www.tei-c.org/ns/1.0}usg':\n",
    "                if 'corresp' in child.attrib:\n",
    "                    record['usg_corresp'] = child.attrib['corresp']\n",
    "                for subchild in child.iter():\n",
    "                    if 'type' in subchild.attrib \\\n",
    "                            and subchild.tag == '{http://www.tei-c.org/ns/1.0}placeName'\\\n",
    "                            and subchild.attrib['type'] == 'orig':\n",
    "                        record['orig_placeName'] = subchild.text\n",
    "\n",
    "                    elif 'ref' in subchild.attrib \\\n",
    "                            and subchild.tag == '{http://www.tei-c.org/ns/1.0}listPlace':\n",
    "                        record['placeName_id'] = subchild.attrib['ref']\n",
    "\n",
    "                    elif 'type' in subchild.attrib \\\n",
    "                            and subchild.tag == '{http://www.tei-c.org/ns/1.0}place' \\\n",
    "                            and subchild.attrib['type'] == 'Bundesland':\n",
    "                        level = 'Bundesland'\n",
    "\n",
    "                    elif 'type' in subchild.attrib \\\n",
    "                            and subchild.tag == '{http://www.tei-c.org/ns/1.0}place' \\\n",
    "                            and subchild.attrib['type'] == 'Großregion':\n",
    "                        level = 'Großregion'\n",
    "\n",
    "                    elif 'type' in subchild.attrib \\\n",
    "                            and subchild.tag == '{http://www.tei-c.org/ns/1.0}place' \\\n",
    "                            and subchild.attrib['type'] == 'Kleinregion':\n",
    "                        level = 'Kleinregion'\n",
    "\n",
    "                    elif 'type' in subchild.attrib \\\n",
    "                            and subchild.tag == '{http://www.tei-c.org/ns/1.0}place' \\\n",
    "                            and subchild.attrib['type'] == 'Gemeinde':\n",
    "                        level = 'Gemeinde'\n",
    "\n",
    "                    elif 'type' in subchild.attrib \\\n",
    "                            and subchild.tag == '{http://www.tei-c.org/ns/1.0}place' \\\n",
    "                            and subchild.attrib['type'] == 'Ort':\n",
    "                        level = 'Ort'\n",
    "\n",
    "                    if 'type' not in subchild.attrib \\\n",
    "                            and subchild.tag == '{http://www.tei-c.org/ns/1.0}placeName':\n",
    "                        record[level] = subchild.text\n",
    "                    elif 'type' in child.attrib \\\n",
    "                            and subchild.tag == '{http://www.tei-c.org/ns/1.0}idno':\n",
    "                        record['{}_idno'.format(level)] = subchild.text\n",
    "\n",
    "            elif child.tag == '{http://www.tei-c.org/ns/1.0}form' \\\n",
    "                        and 'type' in child.attrib:\n",
    "                if child.attrib['type'] == 'hauptlemma':\n",
    "                    for subchild in child.iter():\n",
    "                        if subchild.tag == '{http://www.tei-c.org/ns/1.0}orth':\n",
    "                            if 'type' not in subchild.attrib:\n",
    "                                record['hauptlemma_unique'] = subchild.text\n",
    "                            elif 'type' in subchild.attrib and subchild.attrib['type'] == 'orig':\n",
    "                                record['hauptlemma_orig'] = subchild.text\n",
    "                            elif 'type' in subchild.attrib and subchild.attrib['type'] == 'normalized':\n",
    "                                record['hauptlemma_normalized'] = subchild.text\n",
    "                elif child.attrib['type'] == 'nebenlemma':\n",
    "                    for subchild in child.iter():\n",
    "                        if subchild.tag == '{http://www.tei-c.org/ns/1.0}orth':\n",
    "                            if 'type' not in subchild.attrib:\n",
    "                                record['nebenlemma_unique'] = subchild.text\n",
    "                            elif 'type' in subchild.attrib and subchild.attrib['type'] == 'orig':\n",
    "                                record['nebenlemma_orig'] = subchild.text\n",
    "                            elif 'type' in subchild.attrib and subchild.attrib['type'] == 'normalized':\n",
    "                                record['nebenlemma_normalized'] = subchild.text       \n",
    "                elif child.attrib['type'] == 'lautung':\n",
    "                    for subchild in child.iter():\n",
    "                            if 'notation' in subchild.attrib and subchild.attrib['notation'] == 'tustep':\n",
    "                                record['tustep'].append(subchild.text)\n",
    "\n",
    "            elif child.tag == '{http://www.tei-c.org/ns/1.0}pos':\n",
    "                record['pos'] = child.text\n",
    "            \n",
    "            elif child.tag == '{http://www.tei-c.org/ns/1.0}date':\n",
    "                record['date'] = child.text\n",
    "                \n",
    "            elif child.tag == '{http://www.tei-c.org/ns/1.0}note':\n",
    "                if 'type' in child.attrib and child.attrib['type'] == 'notabene':\n",
    "                    record['note_notabene'] = subchild.text\n",
    "                elif 'type' in child.attrib and child.attrib['type'] == 'anmerkung':\n",
    "                    record['note_anmerkung'] = child.text\n",
    "                elif 'type' in child.attrib and child.attrib['type'] == 'diverse':\n",
    "                    record['note_diverse'] = child.text\n",
    "                elif 'type' in child.attrib:\n",
    "                    print('new note type ', child.attrib['type'] )\n",
    "\n",
    "            elif child.tag == '{http://www.tei-c.org/ns/1.0}cit':\n",
    "                for subchild in child.iter():\n",
    "                    if subchild.tag == '{http://www.tei-c.org/ns/1.0}cit':\n",
    "                        record['citation'].append(subchild.text)\n",
    "                    elif subchild.tag == '{http://www.tei-c.org/ns/1.0}quote':\n",
    "                        record['cit_quote'].append(subchild.text)\n",
    "                    elif subchild.tag == '{http://www.tei-c.org/ns/1.0}def':\n",
    "                        record['cit_def'].append(subchild.text)\n",
    "                    elif subchild.tag == '{http://www.tei-c.org/ns/1.0}interp':\n",
    "                        record['cit_interp'].append(subchild.text)\n",
    "                    elif subchild.tag == '{http://www.tei-c.org/ns/1.0}ref':\n",
    "                        record['cit_ref'].append(subchild.text)\n",
    "                    elif subchild.tag == '{http://www.tei-c.org/ns/1.0}pRef':\n",
    "                        record['cit_pRef'].append(subchild.text)\n",
    "                    elif subchild.tag == '{http://www.tei-c.org/ns/1.0}note':\n",
    "                        record['cit_note'].append(subchild.text)\n",
    "                    elif subchild.tag == '{http://www.tei-c.org/ns/1.0}re':\n",
    "                        record['cit_re'].append(subchild.text)\n",
    "                    elif subchild.tag == '{http://www.tei-c.org/ns/1.0}certainty':\n",
    "                        record['cit_certainty'].append(subchild.text)\n",
    "                    else:\n",
    "                        print('new cit tag ', subchild.tag)                \n",
    "                    \n",
    "            elif child.tag == '{http://www.tei-c.org/ns/1.0}ref':\n",
    "                for subchild in child.iter():\n",
    "                    if subchild.tag == '{http://www.tei-c.org/ns/1.0}ref':\n",
    "                        record['ref'].append(subchild.text)\n",
    "                    elif subchild.tag == '{http://www.tei-c.org/ns/1.0}bibl':\n",
    "                        record['bibl'].append(subchild.text)\n",
    "                    elif subchild.tag == '{http://www.tei-c.org/ns/1.0}certainty':\n",
    "                        record['ref_certainty'].append(subchild.text)\n",
    "                    elif subchild.tag == '{http://www.tei-c.org/ns/1.0}pRef':\n",
    "                        record['ref_pRef'].append(subchild.text)\n",
    "                    elif subchild.tag == '{http://www.tei-c.org/ns/1.0}date':\n",
    "                        record['ref_date'].append(subchild.text)\n",
    "                    elif subchild.tag == '{http://www.tei-c.org/ns/1.0}num':\n",
    "                        record['ref_num'].append(subchild.text)\n",
    "                    elif subchild.tag == '{http://www.tei-c.org/ns/1.0}certainty':\n",
    "                        record['ref_certainty'].append(subchild.text)\n",
    "                    else:\n",
    "                        print('new ref tag ', subchild.tag)  \n",
    "                    #print(subchild.tag, subchild.text)\n",
    "                if child.attrib['type'] == 'verweise':\n",
    "                    record['verweise'] = child.text\n",
    "                elif child.attrib['type'] == 'archiv':\n",
    "                    record['archiv'] = child.text\n",
    "                elif child.attrib['type'] == 'quelle':\n",
    "                    record['quelle'] = child.text\n",
    "                elif child.attrib['type'] == 'quelleBearbeitet':\n",
    "                    record['quelleBearbeitet'] = child.text\n",
    "                elif child.attrib['type'] == 'seite':\n",
    "                    record['seite'] = child.text\n",
    "                elif child.attrib['type'] == 'fragebogenNummer':\n",
    "                    record['fragebogenNummer'] = child.text\n",
    "                elif child.attrib['type'] == 'paragraph':\n",
    "                    record['paragraph'] = child.text\n",
    "                elif child.attrib['type'] == 'bibl':\n",
    "                    record['bibl'].append(subchild.text)\n",
    "                else:\n",
    "                    print('new ref type --> ', child.attrib['type'])\n",
    "            \n",
    "            elif child.tag == '{http://www.tei-c.org/ns/1.0}etym':\n",
    "                for subchild in child.iter():\n",
    "                    record['etym'].append(subchild.text)\n",
    "                    \n",
    "            elif child.tag == '{http://www.tei-c.org/ns/1.0}sense':\n",
    "                for subchild in child.iter():\n",
    "                    record['sense'].append(subchild.text)\n",
    "                    \n",
    "            elif child.tag == '{http://www.tei-c.org/ns/1.0}figure':\n",
    "                for subchild in child.iter():\n",
    "                    if subchild.tag == '{http://www.tei-c.org/ns/1.0}figDesc':\n",
    "                        record['figure']= subchild.text\n",
    "                        print(subchild.text)\n",
    "                    \n",
    "        list_records.append(record)\n",
    "        \n",
    "    if fileid%20 == 0:\n",
    "        clear_output()\n",
    "        print('Processing time is {0:.2f} minutes for file {1}'.format(((time.time() - t0) / 60), fileid))\n",
    "        \n",
    "with open('./list_lemmas.pkl', 'wb') as f:\n",
    "    pickle.dump(list_records, f)\n",
    "print('Total Processing time was {0:.2f} minutes'.format(((time.time() - t0) / 60)))"
   ]
  },
  {
   "cell_type": "code",
   "execution_count": 24,
   "metadata": {},
   "outputs": [
    {
     "data": {
      "text/plain": [
       "2416499"
      ]
     },
     "execution_count": 24,
     "metadata": {},
     "output_type": "execute_result"
    }
   ],
   "source": [
    "len(list_records)"
   ]
  },
  {
   "cell_type": "code",
   "execution_count": 25,
   "metadata": {},
   "outputs": [],
   "source": [
    "df_lemmas = pd.DataFrame(list_records)"
   ]
  },
  {
   "cell_type": "code",
   "execution_count": 26,
   "metadata": {},
   "outputs": [
    {
     "name": "stdout",
     "output_type": "stream",
     "text": [
      "<class 'pandas.core.frame.DataFrame'>\n",
      "RangeIndex: 2416499 entries, 0 to 2416498\n",
      "Data columns (total 53 columns):\n",
      "filename                 2416499 non-null object\n",
      "entry_id                 2416499 non-null object\n",
      "date                     65060 non-null object\n",
      "usg_corresp              16675 non-null object\n",
      "simple_placeName         395816 non-null object\n",
      "orig_placeName           1334384 non-null object\n",
      "placeName_id             1316887 non-null object\n",
      "Bundesland               1316889 non-null object\n",
      "Bundesland_idno          1316889 non-null object\n",
      "Großregion               1296722 non-null object\n",
      "Großregion_idno          1225463 non-null object\n",
      "Kleinregion              1286463 non-null object\n",
      "Kleinregion_idno         1209145 non-null object\n",
      "Gemeinde                 1198447 non-null object\n",
      "Gemeinde_idno            0 non-null object\n",
      "Ort                      1198447 non-null object\n",
      "Ort_idno                 1198447 non-null object\n",
      "hauptlemma_unique        985853 non-null object\n",
      "hauptlemma_orig          1315183 non-null object\n",
      "hauptlemma_normalized    1314740 non-null object\n",
      "nebenlemma_unique        78448 non-null object\n",
      "nebenlemma_orig          112309 non-null object\n",
      "nebenlemma_normalized    112236 non-null object\n",
      "verweise                 181669 non-null object\n",
      "archiv                   2416419 non-null object\n",
      "quelle                   2413983 non-null object\n",
      "quelleBearbeitet         2253191 non-null object\n",
      "seite                    570224 non-null object\n",
      "fragebogenNummer         1297136 non-null object\n",
      "paragraph                251 non-null object\n",
      "bibl                     2416499 non-null object\n",
      "tustep                   2416499 non-null object\n",
      "pos                      2295445 non-null object\n",
      "etym                     2416499 non-null object\n",
      "note_notabene            11755 non-null object\n",
      "note_anmerkung           430105 non-null object\n",
      "note_diverse             172787 non-null object\n",
      "citation                 2416499 non-null object\n",
      "cit_quote                2416499 non-null object\n",
      "cit_def                  2416499 non-null object\n",
      "cit_interp               2416499 non-null object\n",
      "cit_ref                  2416499 non-null object\n",
      "cit_pRef                 2416499 non-null object\n",
      "cit_note                 2416499 non-null object\n",
      "cit_re                   2416499 non-null object\n",
      "cit_certainty            2416499 non-null object\n",
      "sense                    2416499 non-null object\n",
      "ref                      2416499 non-null object\n",
      "ref_pRef                 2416499 non-null object\n",
      "ref_date                 2416499 non-null object\n",
      "ref_num                  2416499 non-null object\n",
      "ref_certainty            2416499 non-null object\n",
      "figure                   4273 non-null object\n",
      "dtypes: object(53)\n",
      "memory usage: 6.2 GB\n"
     ]
    }
   ],
   "source": [
    "df_lemmas.info(verbose=True, null_counts=True, memory_usage='deep') #, max_cols=100)"
   ]
  },
  {
   "cell_type": "code",
   "execution_count": 27,
   "metadata": {},
   "outputs": [],
   "source": [
    "del df_lemmas['Gemeinde_idno']\n",
    "for entry in df_lemmas.columns:\n",
    "    df_lemmas[entry] = df_lemmas[entry].apply(lambda x:x if x != [] else None)\n",
    "\n",
    "df_lemmas['tustep'] = df_lemmas['tustep'].apply(lambda x:x if x == None else tuple(x))\n",
    "df_lemmas['etym'] = df_lemmas['etym'].apply(lambda x:x if x == None else tuple(x))\n",
    "df_lemmas['cit_def'] = df_lemmas['cit_def'].apply(lambda x:x if x == None else tuple(x))\n",
    "df_lemmas['cit_interp'] = df_lemmas['cit_interp'].apply(lambda x:x if x == None else tuple(x))\n",
    "df_lemmas['cit_note'] = df_lemmas['cit_note'].apply(lambda x:x if x == None else tuple(x))\n",
    "df_lemmas['cit_pRef'] = df_lemmas['cit_pRef'].apply(lambda x:x if x == None else tuple(x))\n",
    "df_lemmas['cit_quote'] = df_lemmas['cit_quote'].apply(lambda x:x if x == None else tuple(x))\n",
    "df_lemmas['cit_re'] = df_lemmas['cit_re'].apply(lambda x:x if x == None else tuple(x))\n",
    "df_lemmas['cit_ref'] = df_lemmas['cit_ref'].apply(lambda x:x if x == None else tuple(x))\n",
    "#df_lemmas['citation'] = df_lemmas['citation'].apply(lambda x:x if x == None else tuple(x))\n",
    "#df_lemmas['cit_certainty'] = df_lemmas['cit_certainty'].apply(lambda x:x if x == None else tuple(x))\n",
    "#df_lemmas['ref_certainty'] = df_lemmas['ref_certainty'].apply(lambda x:x if x == None else tuple(x))\n",
    "\n",
    "del df_lemmas['citation']\n",
    "del df_lemmas['cit_certainty']\n",
    "del df_lemmas['ref_certainty']\n",
    "\n",
    "for entry in df_lemmas.columns:\n",
    "    df_lemmas[entry] = df_lemmas[entry].apply(lambda x:x if x != () else None)"
   ]
  },
  {
   "cell_type": "code",
   "execution_count": 28,
   "metadata": {},
   "outputs": [
    {
     "data": {
      "text/plain": [
       "Index(['filename', 'entry_id', 'date', 'usg_corresp', 'simple_placeName',\n",
       "       'orig_placeName', 'placeName_id', 'Bundesland', 'Bundesland_idno',\n",
       "       'Großregion', 'Großregion_idno', 'Kleinregion', 'Kleinregion_idno',\n",
       "       'Gemeinde', 'Ort', 'Ort_idno', 'hauptlemma_unique', 'hauptlemma_orig',\n",
       "       'hauptlemma_normalized', 'nebenlemma_unique', 'nebenlemma_orig',\n",
       "       'nebenlemma_normalized', 'verweise', 'archiv', 'quelle',\n",
       "       'quelleBearbeitet', 'seite', 'fragebogenNummer', 'paragraph', 'bibl',\n",
       "       'tustep', 'pos', 'etym', 'note_notabene', 'note_anmerkung',\n",
       "       'note_diverse', 'cit_quote', 'cit_def', 'cit_interp', 'cit_ref',\n",
       "       'cit_pRef', 'cit_note', 'cit_re', 'sense', 'ref', 'ref_pRef',\n",
       "       'ref_date', 'ref_num', 'figure'],\n",
       "      dtype='object')"
      ]
     },
     "execution_count": 28,
     "metadata": {},
     "output_type": "execute_result"
    }
   ],
   "source": [
    "df_lemmas.columns"
   ]
  },
  {
   "cell_type": "code",
   "execution_count": 29,
   "metadata": {},
   "outputs": [],
   "source": [
    "df_lemmas.to_pickle('./df_lemmas.pkl')"
   ]
  },
  {
   "cell_type": "raw",
   "metadata": {},
   "source": [
    "df_lemmas = pd.read_pickle('./df_lemmas.pkl')"
   ]
  },
  {
   "cell_type": "markdown",
   "metadata": {},
   "source": [
    "#### Building a SQLite Database"
   ]
  },
  {
   "cell_type": "markdown",
   "metadata": {},
   "source": [
    "- From Dataframe"
   ]
  },
  {
   "cell_type": "code",
   "execution_count": null,
   "metadata": {},
   "outputs": [],
   "source": [
    "df_lemmas = pd.read_pickle('./df_lemmas.pkl')"
   ]
  },
  {
   "cell_type": "code",
   "execution_count": null,
   "metadata": {},
   "outputs": [],
   "source": [
    "conn = sqlite3.connect('./lemmas_db1.sqlite')"
   ]
  },
  {
   "cell_type": "code",
   "execution_count": null,
   "metadata": {},
   "outputs": [],
   "source": [
    "df_lemmas.applymap(str).head()"
   ]
  },
  {
   "cell_type": "code",
   "execution_count": null,
   "metadata": {},
   "outputs": [],
   "source": [
    "df_lemmas.applymap(str).to_sql(name='lemmas', con=conn)"
   ]
  },
  {
   "cell_type": "code",
   "execution_count": null,
   "metadata": {},
   "outputs": [],
   "source": [
    "conn.close()"
   ]
  },
  {
   "cell_type": "markdown",
   "metadata": {},
   "source": [
    "- From list of dicts"
   ]
  },
  {
   "cell_type": "code",
   "execution_count": null,
   "metadata": {},
   "outputs": [],
   "source": [
    "with open('./list_lemmas.pkl', 'rb') as f:\n",
    "    list_lemmas = pickle.load(f)"
   ]
  },
  {
   "cell_type": "code",
   "execution_count": null,
   "metadata": {},
   "outputs": [],
   "source": [
    "list_lemmas[0]"
   ]
  },
  {
   "cell_type": "code",
   "execution_count": null,
   "metadata": {},
   "outputs": [],
   "source": [
    "conn = sqlite3.connect('./lemmas_db.sqlite')\n",
    "cur = conn.cursor()"
   ]
  },
  {
   "cell_type": "code",
   "execution_count": null,
   "metadata": {},
   "outputs": [],
   "source": [
    "q = '''\n",
    "CREATE TABLE IF NOT EXISTS lemmas (\n",
    "Gemeinde_idno text,\n",
    "hauptlemma_orig text,\n",
    "quelle text,\n",
    "bibl text,\n",
    "pos text,\n",
    "Kleinregion_idno text,\n",
    "cit_type text,\n",
    "etym text,\n",
    "cit_quote text,\n",
    "verweise text,\n",
    "Bundesland_idno text,\n",
    "tustep text,\n",
    "note_diverse text,\n",
    "orig_placeName text,\n",
    "note_anmerkung text,\n",
    "nebenlemma_unique text,\n",
    "Großregion text,\n",
    "quelleBearbeitet text,\n",
    "archiv text,\n",
    "Kleinregion text,\n",
    "placeName_id text,\n",
    "seite text,\n",
    "Gemeinde text,\n",
    "Ort_idno text,\n",
    "cit_note text,\n",
    "Ort text,\n",
    "cit_re text,\n",
    "hauptlemma_unique text,\n",
    "cit_interp text,\n",
    "cit_def text,\n",
    "Bundesland text,\n",
    "date text,\n",
    "nebenlemma_normalized text,\n",
    "hauptlemma_normalized text,\n",
    "paragraph text,\n",
    "entry_id text,\n",
    "nebenlemma_orig text,\n",
    "certainty text,\n",
    "Großregion_idno text,\n",
    "cit_ref text,\n",
    "fragebogenNummer text,\n",
    "note_notabene text,\n",
    "usg_corresp text,\n",
    "filename text,\n",
    "simple_placeName text,\n",
    "cit_pRef text\n",
    ")\n",
    "'''"
   ]
  },
  {
   "cell_type": "code",
   "execution_count": null,
   "metadata": {},
   "outputs": [],
   "source": [
    "# Create table\n",
    "cur.execute(q)"
   ]
  },
  {
   "cell_type": "code",
   "execution_count": null,
   "metadata": {},
   "outputs": [],
   "source": [
    "cur.execute(\"SELECT name FROM sqlite_master WHERE type='table';\")\n",
    "print(cur.fetchall())"
   ]
  },
  {
   "cell_type": "code",
   "execution_count": null,
   "metadata": {},
   "outputs": [],
   "source": [
    "cur.execute('select count(*) from lemmas')\n",
    "print(cur.fetchall())"
   ]
  },
  {
   "cell_type": "code",
   "execution_count": null,
   "metadata": {},
   "outputs": [],
   "source": [
    "def post_row(conn, tablename, rec):\n",
    "    keys = ','.join(rec.keys())\n",
    "    question_marks = ','.join(list('?'*len(rec)))\n",
    "    values = [str(v) for v in rec.values()]\n",
    "    values = tuple(values)\n",
    "    conn.execute('INSERT INTO '+tablename+' ('+keys+') VALUES ('+question_marks+')', values)"
   ]
  },
  {
   "cell_type": "code",
   "execution_count": null,
   "metadata": {},
   "outputs": [],
   "source": [
    "for idno, entry in enumerate(list_lemmas):\n",
    "    post_row(conn, 'lemmas', entry)\n",
    "    if idno%100000 == 0:\n",
    "        print(idno)\n",
    "conn.commit()\n",
    "#conn.close()"
   ]
  },
  {
   "cell_type": "code",
   "execution_count": null,
   "metadata": {},
   "outputs": [],
   "source": []
  }
 ],
 "metadata": {
  "kernelspec": {
   "display_name": "Python 3",
   "language": "python",
   "name": "python3"
  },
  "language_info": {
   "codemirror_mode": {
    "name": "ipython",
    "version": 3
   },
   "file_extension": ".py",
   "mimetype": "text/x-python",
   "name": "python",
   "nbconvert_exporter": "python",
   "pygments_lexer": "ipython3",
   "version": "3.6.8"
  }
 },
 "nbformat": 4,
 "nbformat_minor": 4
}
