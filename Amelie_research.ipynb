{
 "cells": [
  {
   "cell_type": "code",
   "execution_count": 1,
   "id": "equipped-removal",
   "metadata": {},
   "outputs": [],
   "source": [
    "import pandas as pd\n",
    "import numpy as np\n",
    "import matplotlib.pyplot as plt"
   ]
  },
  {
   "cell_type": "markdown",
   "id": "secondary-creator",
   "metadata": {},
   "source": [
    "### Analysing Frage"
   ]
  },
  {
   "cell_type": "code",
   "execution_count": 40,
   "id": "robust-hepatitis",
   "metadata": {},
   "outputs": [],
   "source": [
    "frage = pd.read_pickle('frage.pickle')"
   ]
  },
  {
   "cell_type": "code",
   "execution_count": 50,
   "id": "excessive-stanley",
   "metadata": {},
   "outputs": [],
   "source": [
    "frage = frage[['fragebogen_num', 'frage_num', 'original_frage']]"
   ]
  },
  {
   "cell_type": "code",
   "execution_count": 51,
   "id": "continued-engagement",
   "metadata": {},
   "outputs": [
    {
     "data": {
      "text/html": [
       "<div>\n",
       "<style scoped>\n",
       "    .dataframe tbody tr th:only-of-type {\n",
       "        vertical-align: middle;\n",
       "    }\n",
       "\n",
       "    .dataframe tbody tr th {\n",
       "        vertical-align: top;\n",
       "    }\n",
       "\n",
       "    .dataframe thead th {\n",
       "        text-align: right;\n",
       "    }\n",
       "</style>\n",
       "<table border=\"1\" class=\"dataframe\">\n",
       "  <thead>\n",
       "    <tr style=\"text-align: right;\">\n",
       "      <th></th>\n",
       "      <th>fragebogen_num</th>\n",
       "      <th>frage_num</th>\n",
       "      <th>original_frage</th>\n",
       "    </tr>\n",
       "  </thead>\n",
       "  <tbody>\n",
       "    <tr>\n",
       "      <th>0</th>\n",
       "      <td>1</td>\n",
       "      <td>A1</td>\n",
       "      <td>Kopf: Kopf, Haupt; auch scherzh./übertr.</td>\n",
       "    </tr>\n",
       "    <tr>\n",
       "      <th>1</th>\n",
       "      <td>1</td>\n",
       "      <td>A2</td>\n",
       "      <td>Kopf: Kopf/Haupt (in urspr. Bed.) in Vergl./Ra...</td>\n",
       "    </tr>\n",
       "    <tr>\n",
       "      <th>2</th>\n",
       "      <td>1</td>\n",
       "      <td>A3</td>\n",
       "      <td>Kopf: Kopf/Haupt (übertr.) in Vergl./Ra. (das ...</td>\n",
       "    </tr>\n",
       "    <tr>\n",
       "      <th>3</th>\n",
       "      <td>1</td>\n",
       "      <td>A4</td>\n",
       "      <td>Kopf: schöner, ebenmäßig gebauter Kopf (Christ...</td>\n",
       "    </tr>\n",
       "    <tr>\n",
       "      <th>4</th>\n",
       "      <td>1</td>\n",
       "      <td>A4a</td>\n",
       "      <td>Kopf: häßlicher, unebenmäßiger Kopf</td>\n",
       "    </tr>\n",
       "  </tbody>\n",
       "</table>\n",
       "</div>"
      ],
      "text/plain": [
       "   fragebogen_num frage_num                                     original_frage\n",
       "0               1        A1           Kopf: Kopf, Haupt; auch scherzh./übertr.\n",
       "1               1        A2  Kopf: Kopf/Haupt (in urspr. Bed.) in Vergl./Ra...\n",
       "2               1        A3  Kopf: Kopf/Haupt (übertr.) in Vergl./Ra. (das ...\n",
       "3               1        A4  Kopf: schöner, ebenmäßig gebauter Kopf (Christ...\n",
       "4               1       A4a                Kopf: häßlicher, unebenmäßiger Kopf"
      ]
     },
     "execution_count": 51,
     "metadata": {},
     "output_type": "execute_result"
    }
   ],
   "source": [
    "frage.head()"
   ]
  },
  {
   "cell_type": "code",
   "execution_count": 52,
   "id": "disciplinary-regulation",
   "metadata": {},
   "outputs": [
    {
     "data": {
      "text/plain": [
       "array([  1,   2,   3,   4,   5,   6,   7,   8,   9,  10,  11,  12,  13,\n",
       "        14,  15,  16,  17,  18,  19,  20,  21,  22,  23,  24,  25,  26,\n",
       "        27,  28,  29,  30,  31,  32,  33,  34,  35,  36,  37,  38,  39,\n",
       "        41,  42,  43,  44,  45,  46,  47,  48,  49,  50,  51,  52,  53,\n",
       "        54,  55,  56,  57,  58,  59,  60,  61,  62,  63,  64,  65,  66,\n",
       "        67,  68,  69,  70,  71,  72,  73,  74,  75,  76,  77,  78,  79,\n",
       "        80,  81,  82,  83,  84,  85,  86,  87,  88,  89,  90,  91,  92,\n",
       "        93,  94,  95,  96,  97,  98,  99, 100, 101, 102, 103, 104, 105,\n",
       "       106, 107, 108, 109])"
      ]
     },
     "execution_count": 52,
     "metadata": {},
     "output_type": "execute_result"
    }
   ],
   "source": [
    "frage.fragebogen_num.unique()"
   ]
  },
  {
   "cell_type": "code",
   "execution_count": 53,
   "id": "normal-assumption",
   "metadata": {},
   "outputs": [
    {
     "data": {
      "text/plain": [
       "array(['A1', 'A2', 'A3', ..., '604', '605', '606'], dtype=object)"
      ]
     },
     "execution_count": 53,
     "metadata": {},
     "output_type": "execute_result"
    }
   ],
   "source": [
    "frage.frage_num.unique()"
   ]
  },
  {
   "cell_type": "markdown",
   "id": "black-operator",
   "metadata": {},
   "source": [
    "### Analysing Lemma"
   ]
  },
  {
   "cell_type": "code",
   "execution_count": 191,
   "id": "remarkable-audio",
   "metadata": {},
   "outputs": [],
   "source": [
    "lemmas = pd.read_pickle('df_lemmas.pkl')"
   ]
  },
  {
   "cell_type": "code",
   "execution_count": 192,
   "id": "basic-knitting",
   "metadata": {},
   "outputs": [
    {
     "data": {
      "text/plain": [
       "Index(['filename', 'entry_id', 'date', 'usg_corresp', 'simple_placeName',\n",
       "       'orig_placeName', 'placeName_id', 'Bundesland', 'Bundesland_idno',\n",
       "       'Großregion', 'Großregion_idno', 'Kleinregion', 'Kleinregion_idno',\n",
       "       'Gemeinde', 'Ort', 'Ort_idno', 'hauptlemma_unique', 'hauptlemma_orig',\n",
       "       'hauptlemma_normalized', 'nebenlemma_unique', 'nebenlemma_orig',\n",
       "       'nebenlemma_normalized', 'verweise', 'archiv', 'quelle',\n",
       "       'quelleBearbeitet', 'seite', 'fragebogenNummer', 'paragraph', 'bibl',\n",
       "       'tustep', 'pos', 'etym', 'note_notabene', 'note_anmerkung',\n",
       "       'note_diverse', 'cit_quote', 'cit_def', 'cit_interp', 'cit_ref',\n",
       "       'cit_pRef', 'cit_note', 'cit_re', 'sense', 'ref', 'ref_pRef',\n",
       "       'ref_date', 'ref_num', 'figure', '_bestlemma', '_year', '_coordinates',\n",
       "       '_location', '_typist', '_drawer', '_fragebogen', '_fragebogen_type',\n",
       "       '_fragebogen_num', '_frage_num', '_frage_subject'],\n",
       "      dtype='object')"
      ]
     },
     "execution_count": 192,
     "metadata": {},
     "output_type": "execute_result"
    }
   ],
   "source": [
    "lemmas.columns"
   ]
  },
  {
   "cell_type": "code",
   "execution_count": 184,
   "id": "middle-harvard",
   "metadata": {},
   "outputs": [],
   "source": [
    "lemmas = lemmas[['hauptlemma_unique', 'hauptlemma_orig', 'hauptlemma_normalized','_fragebogen_num','_frage_num', 'sense']]\n",
    "#lemmas = lemmas[['hauptlemma_normalized','_fragebogen_num','_frage_num']]"
   ]
  },
  {
   "cell_type": "code",
   "execution_count": 185,
   "id": "interim-touch",
   "metadata": {},
   "outputs": [],
   "source": [
    "def trailing_zero(x):\n",
    "    if x.isdigit():\n",
    "        return str(int(x))"
   ]
  },
  {
   "cell_type": "code",
   "execution_count": 186,
   "id": "basic-continent",
   "metadata": {},
   "outputs": [
    {
     "data": {
      "text/html": [
       "<div>\n",
       "<style scoped>\n",
       "    .dataframe tbody tr th:only-of-type {\n",
       "        vertical-align: middle;\n",
       "    }\n",
       "\n",
       "    .dataframe tbody tr th {\n",
       "        vertical-align: top;\n",
       "    }\n",
       "\n",
       "    .dataframe thead th {\n",
       "        text-align: right;\n",
       "    }\n",
       "</style>\n",
       "<table border=\"1\" class=\"dataframe\">\n",
       "  <thead>\n",
       "    <tr style=\"text-align: right;\">\n",
       "      <th></th>\n",
       "      <th>question</th>\n",
       "      <th>_fragebogen_num</th>\n",
       "      <th>_frage_num</th>\n",
       "      <th>hauptlemma_normalized</th>\n",
       "      <th>hauptlemma_unique</th>\n",
       "      <th>hauptlemma_orig</th>\n",
       "      <th>sense</th>\n",
       "    </tr>\n",
       "  </thead>\n",
       "  <tbody>\n",
       "    <tr>\n",
       "      <th>0</th>\n",
       "      <td>0.</td>\n",
       "      <td>0</td>\n",
       "      <td></td>\n",
       "      <td>None</td>\n",
       "      <td>Kind</td>\n",
       "      <td>None</td>\n",
       "      <td>None</td>\n",
       "    </tr>\n",
       "    <tr>\n",
       "      <th>1</th>\n",
       "      <td>0.0</td>\n",
       "      <td>0</td>\n",
       "      <td>0</td>\n",
       "      <td>None</td>\n",
       "      <td>oft</td>\n",
       "      <td>None</td>\n",
       "      <td>[\\n          , oft]</td>\n",
       "    </tr>\n",
       "    <tr>\n",
       "      <th>2</th>\n",
       "      <td>0.0</td>\n",
       "      <td>0</td>\n",
       "      <td>0</td>\n",
       "      <td>weitmenig</td>\n",
       "      <td>None</td>\n",
       "      <td>(weit)menig</td>\n",
       "      <td>[\\n          , weitmächtig]</td>\n",
       "    </tr>\n",
       "    <tr>\n",
       "      <th>3</th>\n",
       "      <td>0.0</td>\n",
       "      <td>0</td>\n",
       "      <td>0</td>\n",
       "      <td>None</td>\n",
       "      <td>Mensch</td>\n",
       "      <td>None</td>\n",
       "      <td>None</td>\n",
       "    </tr>\n",
       "    <tr>\n",
       "      <th>4</th>\n",
       "      <td>1.</td>\n",
       "      <td>1</td>\n",
       "      <td></td>\n",
       "      <td>None</td>\n",
       "      <td>None</td>\n",
       "      <td>None</td>\n",
       "      <td>[\\n          , gefroren oder erfroren]</td>\n",
       "    </tr>\n",
       "    <tr>\n",
       "      <th>5</th>\n",
       "      <td>1.</td>\n",
       "      <td>1</td>\n",
       "      <td></td>\n",
       "      <td>None</td>\n",
       "      <td>spitzen</td>\n",
       "      <td>None</td>\n",
       "      <td>None</td>\n",
       "    </tr>\n",
       "    <tr>\n",
       "      <th>6</th>\n",
       "      <td>1.</td>\n",
       "      <td>1</td>\n",
       "      <td></td>\n",
       "      <td>None</td>\n",
       "      <td>Kette</td>\n",
       "      <td>None</td>\n",
       "      <td>[\\n          , Kette]</td>\n",
       "    </tr>\n",
       "    <tr>\n",
       "      <th>7</th>\n",
       "      <td>1.</td>\n",
       "      <td>1</td>\n",
       "      <td></td>\n",
       "      <td>None</td>\n",
       "      <td>Kette</td>\n",
       "      <td>None</td>\n",
       "      <td>[\\n          , Kette]</td>\n",
       "    </tr>\n",
       "    <tr>\n",
       "      <th>8</th>\n",
       "      <td>1.</td>\n",
       "      <td>1</td>\n",
       "      <td></td>\n",
       "      <td>None</td>\n",
       "      <td>ich</td>\n",
       "      <td>None</td>\n",
       "      <td>None</td>\n",
       "    </tr>\n",
       "    <tr>\n",
       "      <th>9</th>\n",
       "      <td>1.</td>\n",
       "      <td>1</td>\n",
       "      <td></td>\n",
       "      <td>None</td>\n",
       "      <td>Kette</td>\n",
       "      <td>None</td>\n",
       "      <td>[\\n          , Kette]</td>\n",
       "    </tr>\n",
       "  </tbody>\n",
       "</table>\n",
       "</div>"
      ],
      "text/plain": [
       "  question _fragebogen_num _frage_num hauptlemma_normalized hauptlemma_unique  \\\n",
       "0       0.               0                             None              Kind   \n",
       "1      0.0               0          0                  None               oft   \n",
       "2      0.0               0          0             weitmenig              None   \n",
       "3      0.0               0          0                  None            Mensch   \n",
       "4       1.               1                             None              None   \n",
       "5       1.               1                             None           spitzen   \n",
       "6       1.               1                             None             Kette   \n",
       "7       1.               1                             None             Kette   \n",
       "8       1.               1                             None               ich   \n",
       "9       1.               1                             None             Kette   \n",
       "\n",
       "  hauptlemma_orig                                   sense  \n",
       "0            None                                    None  \n",
       "1            None                     [\\n          , oft]  \n",
       "2     (weit)menig             [\\n          , weitmächtig]  \n",
       "3            None                                    None  \n",
       "4            None  [\\n          , gefroren oder erfroren]  \n",
       "5            None                                    None  \n",
       "6            None                   [\\n          , Kette]  \n",
       "7            None                   [\\n          , Kette]  \n",
       "8            None                                    None  \n",
       "9            None                   [\\n          , Kette]  "
      ]
     },
     "execution_count": 186,
     "metadata": {},
     "output_type": "execute_result"
    }
   ],
   "source": [
    "lemmas = lemmas.dropna(subset=['_fragebogen_num','_frage_num'], axis=0)\n",
    "lemmas['_fragebogen_num'] = lemmas['_fragebogen_num'].apply(trailing_zero)\n",
    "#lemmas['_frage_num'] = lemmas['_frage_num'].apply(trailing_zero)\n",
    "lemmas['question'] = lemmas['_fragebogen_num'] + '.' + lemmas['_frage_num']\n",
    "#lemmas = lemmas.dropna()\n",
    "lemmas.sort_values(by=['question'], axis=0, inplace=True, ignore_index=True)\n",
    "lemmas = lemmas[['question', '_fragebogen_num', '_frage_num', 'hauptlemma_normalized', 'hauptlemma_unique', 'hauptlemma_orig', 'sense']]\n",
    "lemmas.head(10)"
   ]
  },
  {
   "cell_type": "code",
   "execution_count": 187,
   "id": "short-thanks",
   "metadata": {},
   "outputs": [
    {
     "name": "stdout",
     "output_type": "stream",
     "text": [
      "<class 'pandas.core.frame.DataFrame'>\n",
      "RangeIndex: 1296845 entries, 0 to 1296844\n",
      "Data columns (total 7 columns):\n",
      " #   Column                 Non-Null Count    Dtype \n",
      "---  ------                 --------------    ----- \n",
      " 0   question               1142818 non-null  object\n",
      " 1   _fragebogen_num        1142818 non-null  object\n",
      " 2   _frage_num             1296845 non-null  object\n",
      " 3   hauptlemma_normalized  758842 non-null   object\n",
      " 4   hauptlemma_unique      480941 non-null   object\n",
      " 5   hauptlemma_orig        759080 non-null   object\n",
      " 6   sense                  586859 non-null   object\n",
      "dtypes: object(7)\n",
      "memory usage: 69.3+ MB\n"
     ]
    }
   ],
   "source": [
    "lemmas.info(verbose=True, show_counts=True)"
   ]
  },
  {
   "cell_type": "code",
   "execution_count": 188,
   "id": "injured-cookie",
   "metadata": {},
   "outputs": [],
   "source": [
    "num_fragebogen = '56'\n",
    "num_frage = 'B2'"
   ]
  },
  {
   "cell_type": "code",
   "execution_count": 189,
   "id": "polished-account",
   "metadata": {},
   "outputs": [
    {
     "data": {
      "text/html": [
       "<div>\n",
       "<style scoped>\n",
       "    .dataframe tbody tr th:only-of-type {\n",
       "        vertical-align: middle;\n",
       "    }\n",
       "\n",
       "    .dataframe tbody tr th {\n",
       "        vertical-align: top;\n",
       "    }\n",
       "\n",
       "    .dataframe thead th {\n",
       "        text-align: right;\n",
       "    }\n",
       "</style>\n",
       "<table border=\"1\" class=\"dataframe\">\n",
       "  <thead>\n",
       "    <tr style=\"text-align: right;\">\n",
       "      <th></th>\n",
       "      <th>fragebogen_num</th>\n",
       "      <th>frage_num</th>\n",
       "      <th>original_frage</th>\n",
       "    </tr>\n",
       "  </thead>\n",
       "  <tbody>\n",
       "    <tr>\n",
       "      <th>4955</th>\n",
       "      <td>56</td>\n",
       "      <td>B2</td>\n",
       "      <td>Gruß: bei der Verabschiedung nach einem Besuch</td>\n",
       "    </tr>\n",
       "  </tbody>\n",
       "</table>\n",
       "</div>"
      ],
      "text/plain": [
       "      fragebogen_num frage_num                                  original_frage\n",
       "4955              56        B2  Gruß: bei der Verabschiedung nach einem Besuch"
      ]
     },
     "execution_count": 189,
     "metadata": {},
     "output_type": "execute_result"
    }
   ],
   "source": [
    "frage[(frage['fragebogen_num'] == int(num_fragebogen)) & (frage['frage_num'] == num_frage)]"
   ]
  },
  {
   "cell_type": "code",
   "execution_count": 190,
   "id": "extraordinary-failure",
   "metadata": {},
   "outputs": [
    {
     "data": {
      "text/html": [
       "<div>\n",
       "<style scoped>\n",
       "    .dataframe tbody tr th:only-of-type {\n",
       "        vertical-align: middle;\n",
       "    }\n",
       "\n",
       "    .dataframe tbody tr th {\n",
       "        vertical-align: top;\n",
       "    }\n",
       "\n",
       "    .dataframe thead th {\n",
       "        text-align: right;\n",
       "    }\n",
       "</style>\n",
       "<table border=\"1\" class=\"dataframe\">\n",
       "  <thead>\n",
       "    <tr style=\"text-align: right;\">\n",
       "      <th></th>\n",
       "      <th>question</th>\n",
       "      <th>_fragebogen_num</th>\n",
       "      <th>_frage_num</th>\n",
       "      <th>hauptlemma_normalized</th>\n",
       "      <th>hauptlemma_unique</th>\n",
       "      <th>hauptlemma_orig</th>\n",
       "      <th>sense</th>\n",
       "    </tr>\n",
       "  </thead>\n",
       "  <tbody>\n",
       "    <tr>\n",
       "      <th>725919</th>\n",
       "      <td>56.B2</td>\n",
       "      <td>56</td>\n",
       "      <td>B2</td>\n",
       "      <td>widersehen</td>\n",
       "      <td>None</td>\n",
       "      <td>(wider)s:ehen</td>\n",
       "      <td>None</td>\n",
       "    </tr>\n",
       "    <tr>\n",
       "      <th>725920</th>\n",
       "      <td>56.B2</td>\n",
       "      <td>56</td>\n",
       "      <td>B2</td>\n",
       "      <td>leben</td>\n",
       "      <td>None</td>\n",
       "      <td>l:eben</td>\n",
       "      <td>None</td>\n",
       "    </tr>\n",
       "    <tr>\n",
       "      <th>725921</th>\n",
       "      <td>56.B2</td>\n",
       "      <td>56</td>\n",
       "      <td>B2</td>\n",
       "      <td>heimsuochen</td>\n",
       "      <td>None</td>\n",
       "      <td>(h-eim)su{ochen</td>\n",
       "      <td>None</td>\n",
       "    </tr>\n",
       "    <tr>\n",
       "      <th>725922</th>\n",
       "      <td>56.B2</td>\n",
       "      <td>56</td>\n",
       "      <td>B2</td>\n",
       "      <td>behueten</td>\n",
       "      <td>None</td>\n",
       "      <td>(be)hu{eten</td>\n",
       "      <td>None</td>\n",
       "    </tr>\n",
       "    <tr>\n",
       "      <th>725923</th>\n",
       "      <td>56.B2</td>\n",
       "      <td>56</td>\n",
       "      <td>B2</td>\n",
       "      <td>behueten</td>\n",
       "      <td>None</td>\n",
       "      <td>(be)hu{eten</td>\n",
       "      <td>None</td>\n",
       "    </tr>\n",
       "    <tr>\n",
       "      <th>...</th>\n",
       "      <td>...</td>\n",
       "      <td>...</td>\n",
       "      <td>...</td>\n",
       "      <td>...</td>\n",
       "      <td>...</td>\n",
       "      <td>...</td>\n",
       "      <td>...</td>\n",
       "    </tr>\n",
       "    <tr>\n",
       "      <th>726025</th>\n",
       "      <td>56.B2</td>\n",
       "      <td>56</td>\n",
       "      <td>B2</td>\n",
       "      <td>gefallen</td>\n",
       "      <td>None</td>\n",
       "      <td>(ge)fallen</td>\n",
       "      <td>None</td>\n",
       "    </tr>\n",
       "    <tr>\n",
       "      <th>726026</th>\n",
       "      <td>56.B2</td>\n",
       "      <td>56</td>\n",
       "      <td>B2</td>\n",
       "      <td>widerkemmen</td>\n",
       "      <td>None</td>\n",
       "      <td>(wider)k:emmen</td>\n",
       "      <td>None</td>\n",
       "    </tr>\n",
       "    <tr>\n",
       "      <th>726027</th>\n",
       "      <td>56.B2</td>\n",
       "      <td>56</td>\n",
       "      <td>B2</td>\n",
       "      <td>widerkemmen</td>\n",
       "      <td>None</td>\n",
       "      <td>(wider)k:emmen</td>\n",
       "      <td>None</td>\n",
       "    </tr>\n",
       "    <tr>\n",
       "      <th>726028</th>\n",
       "      <td>56.B2</td>\n",
       "      <td>56</td>\n",
       "      <td>B2</td>\n",
       "      <td>widerkemmen</td>\n",
       "      <td>None</td>\n",
       "      <td>(wider)k:emmen</td>\n",
       "      <td>None</td>\n",
       "    </tr>\n",
       "    <tr>\n",
       "      <th>726029</th>\n",
       "      <td>56.B2</td>\n",
       "      <td>56</td>\n",
       "      <td>B2</td>\n",
       "      <td>widerkemmen</td>\n",
       "      <td>None</td>\n",
       "      <td>(wider)k:emmen</td>\n",
       "      <td>None</td>\n",
       "    </tr>\n",
       "  </tbody>\n",
       "</table>\n",
       "<p>111 rows × 7 columns</p>\n",
       "</div>"
      ],
      "text/plain": [
       "       question _fragebogen_num _frage_num hauptlemma_normalized  \\\n",
       "725919    56.B2              56         B2            widersehen   \n",
       "725920    56.B2              56         B2                 leben   \n",
       "725921    56.B2              56         B2           heimsuochen   \n",
       "725922    56.B2              56         B2              behueten   \n",
       "725923    56.B2              56         B2              behueten   \n",
       "...         ...             ...        ...                   ...   \n",
       "726025    56.B2              56         B2              gefallen   \n",
       "726026    56.B2              56         B2           widerkemmen   \n",
       "726027    56.B2              56         B2           widerkemmen   \n",
       "726028    56.B2              56         B2           widerkemmen   \n",
       "726029    56.B2              56         B2           widerkemmen   \n",
       "\n",
       "       hauptlemma_unique  hauptlemma_orig sense  \n",
       "725919              None    (wider)s:ehen  None  \n",
       "725920              None           l:eben  None  \n",
       "725921              None  (h-eim)su{ochen  None  \n",
       "725922              None      (be)hu{eten  None  \n",
       "725923              None      (be)hu{eten  None  \n",
       "...                  ...              ...   ...  \n",
       "726025              None       (ge)fallen  None  \n",
       "726026              None   (wider)k:emmen  None  \n",
       "726027              None   (wider)k:emmen  None  \n",
       "726028              None   (wider)k:emmen  None  \n",
       "726029              None   (wider)k:emmen  None  \n",
       "\n",
       "[111 rows x 7 columns]"
      ]
     },
     "execution_count": 190,
     "metadata": {},
     "output_type": "execute_result"
    }
   ],
   "source": [
    "lemmas[(lemmas['_fragebogen_num'] == num_fragebogen) & (lemmas['_frage_num'] == num_frage)]"
   ]
  },
  {
   "cell_type": "code",
   "execution_count": null,
   "id": "closing-representation",
   "metadata": {},
   "outputs": [],
   "source": [
    "lemmas.to_excel('lemmas.xls')"
   ]
  }
 ],
 "metadata": {
  "kernelspec": {
   "display_name": "Python 3",
   "language": "python",
   "name": "python3"
  },
  "language_info": {
   "codemirror_mode": {
    "name": "ipython",
    "version": 3
   },
   "file_extension": ".py",
   "mimetype": "text/x-python",
   "name": "python",
   "nbconvert_exporter": "python",
   "pygments_lexer": "ipython3",
   "version": "3.8.5"
  }
 },
 "nbformat": 4,
 "nbformat_minor": 5
}
