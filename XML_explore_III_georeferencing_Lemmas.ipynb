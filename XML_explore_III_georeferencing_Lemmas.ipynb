{
 "cells": [
  {
   "cell_type": "raw",
   "metadata": {},
   "source": [
    "# jupyter notebook\n",
    "#conda install nb_conda\n",
    "#conda install nodejs\n",
    "#jupyter labextension install jupyter-leaflet\n",
    "#jupyter nbextension enable --py --sys-prefix widgetsnbextension\n",
    "!jupyter nbextension enable --py --sys-prefix ipyleaflet"
   ]
  },
  {
   "cell_type": "raw",
   "metadata": {},
   "source": [
    "##jupyter lab\n",
    "!jupyter labextension install jupyter-leaflet\n",
    "!jupyter labextension install @jupyter-widgets/jupyterlab-manager"
   ]
  },
  {
   "cell_type": "code",
   "execution_count": 1,
   "metadata": {},
   "outputs": [],
   "source": [
    "import os\n",
    "import sys\n",
    "import time\n",
    "import pickle\n",
    "import string\n",
    "from datetime import datetime\n",
    "from datetime import timedelta\n",
    "from itertools import chain, cycle\n",
    "import collections\n",
    "from pprint import pprint\n",
    "from io import StringIO\n",
    "import pathlib\n",
    "\n",
    "import numpy as np\n",
    "import pandas as pd\n",
    "from pandas.tools.plotting import parallel_coordinates\n",
    "import matplotlib.pyplot as plt\n",
    "\n",
    "#import urllib\n",
    "#import webbrowser\n",
    "#import codecs\n",
    "from bs4 import BeautifulSoup\n",
    "from xml.dom import minidom\n",
    "from xml.etree import ElementTree as ET\n",
    "#from lxml import etree as ET #Supports xpath syntax\n",
    "import xmltodict \n",
    "\n",
    "import nltk\n",
    "import re\n",
    "import Levenshtein\n",
    "import networkx as nx\n",
    "import json\n",
    "\n",
    "#from nominatim import Nominatim\n",
    "#from mpl_toolkits.basemap import Basemap   #http://matplotlib.org/basemap/api/basemap_api.html\n",
    "from matplotlib import cm\n",
    "import geopy.geocoders as gg\n",
    "from geopy.geocoders import Nominatim\n",
    "import geopandas as gpd\n",
    "import ipyleaflet\n",
    "#from ipyleaflet import Map, basemaps, basemap_to_tiles, DrawControl, WMSLayer, Marker, MarkerCluster\n",
    "\n",
    "##https://python-visualization.github.io/folium/docs-v0.6.0/\n",
    "#https://towardsdatascience.com/data-101s-spatial-visualizations-and-analysis-in-python-with-folium-39730da2adf\n",
    "import folium\n",
    "import folium.plugins\n",
    "#from folium.plugins import MarkerCluster\n",
    "#from folium.plugins import FastMarkerCluster\n",
    "\n",
    "\n",
    "#import plotly as py\n",
    "#import plotly.graph_objs as go\n",
    "#import plotly.figure_factory as ff\n",
    "\n",
    "from IPython.display import Image, HTML, IFrame, FileLink, FileLinks #needed to render in notebook\n",
    "from IPython.core.display import display\n",
    "\n",
    "#import pydotplus #Install http://www.graphviz.org/ & Instal https://pypi.python.org/pypi/pydotplus\n",
    "\n",
    "#https://stackoverflow.com/questions/2148119/how-to-convert-an-xml-string-to-a-dictionary-in-python\n",
    "#https://github.com/martinblech/xmltodict\n",
    "#https://www.datacamp.com/community/tutorials/python-xml-elementtree\n",
    "#https://stackabuse.com/reading-and-writing-xml-files-in-python/\n",
    "#https://codereview.stackexchange.com/questions/117810/parsing-of-xml-in-python-using-minidom-and-inserting-data-into-a-database\n",
    "#https://stackoverflow.com/questions/749796/pretty-printing-xml-in-python\n",
    "#https://hackersandslackers.com/dealing-with-xml-in-python/"
   ]
  },
  {
   "cell_type": "code",
   "execution_count": 2,
   "metadata": {},
   "outputs": [
    {
     "data": {
      "text/plain": [
       "'C:\\\\Users\\\\rsouza\\\\Documents\\\\Python Scripts\\\\exploreAT-TEI_XML_NLP'"
      ]
     },
     "execution_count": 2,
     "metadata": {},
     "output_type": "execute_result"
    }
   ],
   "source": [
    "pwd"
   ]
  },
  {
   "cell_type": "markdown",
   "metadata": {},
   "source": [
    "### PART III: Georeferencing Lemmas"
   ]
  },
  {
   "cell_type": "raw",
   "metadata": {},
   "source": [
    "geolocator = gg.Nominatim(user_agent=\"test_application\")"
   ]
  },
  {
   "cell_type": "raw",
   "metadata": {},
   "source": [
    "location = geolocator.geocode('salurn Österreich')\n",
    "print(location.address)\n",
    "address = location.address\n",
    "print((location.latitude, location.longitude))\n",
    "latitude, longitude = location.latitude, location.longitude\n",
    "print(location.raw)"
   ]
  },
  {
   "cell_type": "raw",
   "metadata": {},
   "source": [
    "def get_coordinates(place):\n",
    "    location = None\n",
    "    place = place.replace(')', '')\n",
    "    place = place.replace('(', '')\n",
    "    place = place.replace(']', '')\n",
    "    place = place.replace('[', '')\n",
    "    place = place.replace('.', '')\n",
    "    place = place.replace('/', ' ')\n",
    "    print(place)\n",
    "    try:\n",
    "        location = geolocator.geocode(place)\n",
    "        if not location:\n",
    "            try:\n",
    "                location = geolocator.geocode(place.split(',')[0])\n",
    "            except:\n",
    "                print('failed 1')\n",
    "        time.sleep(2)\n",
    "        if not location:\n",
    "            try:\n",
    "                location = geolocator.geocode(place.split(',')[1])\n",
    "            except:\n",
    "                print('failed 2')\n",
    "        time.sleep(2)\n",
    "        if not location:\n",
    "            try:\n",
    "                location = geolocator.geocode(place.split(' ')[0])\n",
    "            except:\n",
    "                print('failed 3')\n",
    "        time.sleep(2)\n",
    "        if not location:\n",
    "            try:\n",
    "                location = geolocator.geocode(place.split(' ')[1])\n",
    "            except:\n",
    "                print('failed 4')\n",
    "        time.sleep(2)\n",
    "        if not location:\n",
    "            try:\n",
    "                location = geolocator.geocode(place.split(' ')[2])\n",
    "            except:\n",
    "                print('failed 5')\n",
    "        if location:\n",
    "            print('location -', location)\n",
    "        else:\n",
    "            print('place -', place)\n",
    "    except:\n",
    "        return None\n",
    "    time.sleep(2)\n",
    "    print('------')\n",
    "    if location:\n",
    "        return (location.longitude, location.latitude), location.address\n",
    "    else:\n",
    "        return None"
   ]
  },
  {
   "cell_type": "code",
   "execution_count": null,
   "metadata": {},
   "outputs": [],
   "source": [
    "lemma_places = []\n",
    "for p in df_freqdist.Place:\n",
    "    lemma_places.append(get_coordinates(p))\n",
    "    \n",
    "lemma_places"
   ]
  },
  {
   "cell_type": "code",
   "execution_count": null,
   "metadata": {},
   "outputs": [],
   "source": [
    "idx = df_freqdist.Place.index\n",
    "idx"
   ]
  },
  {
   "cell_type": "raw",
   "metadata": {},
   "source": [
    "df_freqdist.loc[idx, 'Coordinates'] = [x[0] if x else None for x in lemma_places]"
   ]
  },
  {
   "cell_type": "raw",
   "metadata": {},
   "source": [
    "df_freqdist.loc[idx, 'Adresses'] = [x[1] if x else None for x in lemma_places]"
   ]
  },
  {
   "cell_type": "raw",
   "metadata": {},
   "source": [
    "with open('./df_freqdist.pkl', 'wb') as f:\n",
    "    pickle.dump(df_freqdist, f)"
   ]
  },
  {
   "cell_type": "code",
   "execution_count": null,
   "metadata": {},
   "outputs": [],
   "source": [
    "with open('./df_freqdist.pkl', 'rb') as f:\n",
    "    df_freqdist = pickle.load(f)\n",
    "\n",
    "df_freqdist.head()"
   ]
  },
  {
   "cell_type": "code",
   "execution_count": null,
   "metadata": {},
   "outputs": [],
   "source": [
    "with open('./df_joined.pkl', 'rb') as f:\n",
    "    df_joined = pickle.load(f)\n",
    "\n",
    "df_joined.head(10)"
   ]
  },
  {
   "cell_type": "code",
   "execution_count": null,
   "metadata": {},
   "outputs": [],
   "source": [
    "df_joined.reset_index(inplace=True)"
   ]
  },
  {
   "cell_type": "code",
   "execution_count": null,
   "metadata": {},
   "outputs": [],
   "source": [
    "df_joined.head(10)"
   ]
  },
  {
   "cell_type": "code",
   "execution_count": null,
   "metadata": {},
   "outputs": [],
   "source": [
    "df_joined.to_csv('./df_joined.csv')"
   ]
  },
  {
   "cell_type": "code",
   "execution_count": null,
   "metadata": {},
   "outputs": [],
   "source": [
    "def list2string(lista):\n",
    "    texto = ''\n",
    "    for elem in lista:\n",
    "        texto = texto + '\\n' + elem[0] + ' --- ' + str(elem[1]) + '\\n'\n",
    "    return texto"
   ]
  },
  {
   "cell_type": "code",
   "execution_count": null,
   "metadata": {},
   "outputs": [],
   "source": [
    "df_joined.Lemma"
   ]
  },
  {
   "cell_type": "code",
   "execution_count": null,
   "metadata": {
    "scrolled": true
   },
   "outputs": [],
   "source": [
    "center = (47,14)\n",
    "mapplaces = ipyleaflet.Map(#layers=(layer,),\n",
    "                            center=center,\n",
    "                            zoom=6)\n",
    "\n",
    "mapplaces.layout.width = '100%'\n",
    "mapplaces.layout.height = '800px'\n",
    "\n",
    "markers = []\n",
    "for idx in df_joined.index:\n",
    "    if df_joined.loc[idx,'Coordinates'] and not isinstance(df_joined.loc[idx,'Lemma'], float):\n",
    "        title = list2string(collections.Counter(df_joined.loc[idx,'Lemma']).most_common(6))\n",
    "        markers.append(ipyleaflet.Marker(location=df_joined.loc[idx,'Coordinates'][-1::-1], draggable=False, title=title))\n",
    "                       \n",
    "marker_cluster = ipyleaflet.MarkerCluster(markers=tuple(markers))                       \n",
    "mapplaces.add_layer(marker_cluster);\n",
    "\n",
    "\n",
    "mapplaces"
   ]
  },
  {
   "cell_type": "code",
   "execution_count": null,
   "metadata": {},
   "outputs": [],
   "source": [
    "#using Folio\n",
    "\n",
    "mapplaces = folium.Map(location=(47,14),\n",
    "               zoom_start=4)\n",
    "\n",
    "mc = folium.plugins.MarkerCluster()\n",
    "\n",
    "for idx in df_joined.index:\n",
    "     if df_joined.loc[idx,'Coordinates'] and not isinstance(df_joined.loc[idx,'Lemma'], float):\n",
    "        title = list2string(collections.Counter(df_joined.loc[idx,'Lemma']).most_common(6))\n",
    "        mc.add_child(folium.Marker(location=df_joined.loc[idx,'Coordinates'][-1::-1], popup=title))\n",
    "        \n",
    "                     \n",
    "mapplaces.add_child(mc)\n",
    "mapplaces"
   ]
  },
  {
   "cell_type": "code",
   "execution_count": null,
   "metadata": {},
   "outputs": [],
   "source": [
    "mapplaces.save('./lemmas_places.html')"
   ]
  },
  {
   "cell_type": "code",
   "execution_count": null,
   "metadata": {},
   "outputs": [],
   "source": []
  }
 ],
 "metadata": {
  "kernelspec": {
   "display_name": "Python 3",
   "language": "python",
   "name": "python3"
  },
  "language_info": {
   "codemirror_mode": {
    "name": "ipython",
    "version": 3
   },
   "file_extension": ".py",
   "mimetype": "text/x-python",
   "name": "python",
   "nbconvert_exporter": "python",
   "pygments_lexer": "ipython3",
   "version": "3.7.1"
  }
 },
 "nbformat": 4,
 "nbformat_minor": 2
}
